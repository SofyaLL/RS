{
 "cells": [
  {
   "cell_type": "markdown",
   "metadata": {},
   "source": [
    "# Overfitting and Regularization"
   ]
  },
  {
   "cell_type": "markdown",
   "metadata": {},
   "source": [
    "## Imports"
   ]
  },
  {
   "cell_type": "code",
   "execution_count": 1,
   "metadata": {
    "ExecuteTime": {
     "end_time": "2022-02-16T07:39:25.890581Z",
     "start_time": "2022-02-16T07:39:23.835921Z"
    }
   },
   "outputs": [],
   "source": [
    "import numpy as np\n",
    "import pandas as pd\n",
    "import seaborn as sns\n",
    "import matplotlib.pyplot as plt"
   ]
  },
  {
   "cell_type": "code",
   "execution_count": 2,
   "metadata": {
    "ExecuteTime": {
     "end_time": "2022-02-16T07:39:26.108031Z",
     "start_time": "2022-02-16T07:39:25.925893Z"
    }
   },
   "outputs": [],
   "source": [
    "from sklearn.pipeline import Pipeline\n",
    "from sklearn.model_selection import train_test_split, cross_validate\n",
    "from sklearn.preprocessing import PolynomialFeatures, StandardScaler\n",
    "from sklearn.linear_model import LinearRegression, Lasso, Ridge\n",
    "from sklearn.metrics import mean_squared_error, r2_score\n",
    "from sklearn import set_config"
   ]
  },
  {
   "cell_type": "code",
   "execution_count": 3,
   "metadata": {
    "ExecuteTime": {
     "end_time": "2022-02-16T07:39:26.155183Z",
     "start_time": "2022-02-16T07:39:26.141249Z"
    }
   },
   "outputs": [],
   "source": [
    "set_config(display='diagram')"
   ]
  },
  {
   "cell_type": "markdown",
   "metadata": {},
   "source": [
    "## Settings"
   ]
  },
  {
   "cell_type": "code",
   "execution_count": 4,
   "metadata": {
    "ExecuteTime": {
     "end_time": "2022-02-16T07:39:26.201661Z",
     "start_time": "2022-02-16T07:39:26.189181Z"
    }
   },
   "outputs": [],
   "source": [
    "SEED = 42\n",
    "RANGE = (-5, 5)\n",
    "N_SAMPLES = 50\n",
    "DEGREES = np.linspace(0, 15, 1 + 15, dtype=int)\n",
    "ALPHAS = np.linspace(0, 0.5, 1 + 40)"
   ]
  },
  {
   "cell_type": "markdown",
   "metadata": {},
   "source": [
    "## Part 1: Underfitting vs. overfitting"
   ]
  },
  {
   "cell_type": "markdown",
   "metadata": {},
   "source": [
    "### Generate samples"
   ]
  },
  {
   "cell_type": "markdown",
   "metadata": {
    "ExecuteTime": {
     "end_time": "2020-11-09T09:04:09.904994Z",
     "start_time": "2020-11-09T09:04:09.896444Z"
    }
   },
   "source": [
    "Let's pick a target function $ f(x) = 2\\cdot x + 10\\cdot sin(x) $ and generate some noisy samples to learn from."
   ]
  },
  {
   "cell_type": "code",
   "execution_count": 5,
   "metadata": {
    "ExecuteTime": {
     "end_time": "2022-02-16T07:39:26.433239Z",
     "start_time": "2022-02-16T07:39:26.412501Z"
    }
   },
   "outputs": [],
   "source": [
    "def target_function(x):\n",
    "    return 2 * x + 10 * np.sin(x)\n",
    "\n",
    "def generate_samples():\n",
    "    \"\"\"Generate noisy samples.\"\"\"\n",
    "    np.random.seed(SEED)\n",
    "    x = np.random.uniform(*RANGE, size=N_SAMPLES)\n",
    "    y = target_function(x) + np.random.normal(scale=4, size=N_SAMPLES)\n",
    "    return x.reshape(-1, 1), y\n",
    "\n",
    "X, y = generate_samples()"
   ]
  },
  {
   "cell_type": "markdown",
   "metadata": {},
   "source": [
    "### Plot samples"
   ]
  },
  {
   "cell_type": "code",
   "execution_count": 6,
   "metadata": {
    "ExecuteTime": {
     "end_time": "2022-02-16T07:39:27.822431Z",
     "start_time": "2022-02-16T07:39:27.696426Z"
    }
   },
   "outputs": [
    {
     "data": {
      "image/png": "[encoded data removed]",
      "text/plain": [
       "<Figure size 432x288 with 1 Axes>"
      ]
     },
     "metadata": {
      "needs_background": "light"
     },
     "output_type": "display_data"
    }
   ],
   "source": [
    "def plot_scatter(x, y, title=None, label='Noisy samples'):\n",
    "    plt.scatter(x, y, label=label)\n",
    "    plt.xlabel('x')\n",
    "    plt.ylabel('y')\n",
    "    plt.grid(True)\n",
    "    plt.title(title)\n",
    "    plt.legend(loc='lower right')\n",
    "\n",
    "plot_scatter(X, y)"
   ]
  },
  {
   "cell_type": "markdown",
   "metadata": {},
   "source": [
    "### Split"
   ]
  },
  {
   "cell_type": "code",
   "execution_count": 7,
   "metadata": {
    "ExecuteTime": {
     "end_time": "2022-02-16T07:39:29.210072Z",
     "start_time": "2022-02-16T07:39:29.093175Z"
    }
   },
   "outputs": [
    {
     "data": {
      "image/png": "[encoded data removed]",
      "text/plain": [
       "<Figure size 432x288 with 1 Axes>"
      ]
     },
     "metadata": {
      "needs_background": "light"
     },
     "output_type": "display_data"
    }
   ],
   "source": [
    "X_train, X_valid, y_train, y_valid = train_test_split(X, y, test_size=0.3, random_state=SEED)\n",
    "\n",
    "plot_scatter(X_train, y_train, label='Training set')\n",
    "plot_scatter(X_valid, y_valid, label='Validation set')"
   ]
  },
  {
   "cell_type": "code",
   "execution_count": 8,
   "metadata": {
    "ExecuteTime": {
     "end_time": "2022-02-16T07:39:33.496625Z",
     "start_time": "2022-02-16T07:39:33.479851Z"
    }
   },
   "outputs": [
    {
     "data": {
      "text/plain": [
       "array([ -1.10771616,   0.84986647,  -9.62110024,   3.70972424,\n",
       "        -2.36319095,   5.83708039, -16.53330524,  -1.8815588 ,\n",
       "       -11.1506254 ,   1.0883081 ,  -9.05957818, -14.72254274,\n",
       "         5.71746212,   5.48508317,  -6.81897956,  -1.80751907,\n",
       "        -2.14124891, -12.83476672,  -0.09034969,  -3.48222266,\n",
       "        11.50001273,  -2.03019037,  10.03142993, -17.18409407,\n",
       "        -2.48182149,   1.67461593, -17.32081894,  -6.32825039,\n",
       "        -4.15121484,   9.31494651,   6.5817456 ,   6.58351686,\n",
       "        -1.83803375,  11.27589865,  13.68530977])"
      ]
     },
     "execution_count": 8,
     "metadata": {},
     "output_type": "execute_result"
    }
   ],
   "source": [
    "y_train"
   ]
  },
  {
   "cell_type": "markdown",
   "metadata": {},
   "source": [
    "### Model"
   ]
  },
  {
   "cell_type": "markdown",
   "metadata": {},
   "source": [
    "Let's try to approximate our target function $ f(x) = 2\\cdot x + 10\\cdot sin(x) $ with polynomials of different degree. \n",
    "\n",
    "A polynomial of degree $n$ has the form:\n",
    "$ h(x) = w_0 + w_1\\cdot x + w_2\\cdot x^2 +\\ldots + w_n\\cdot x^n $.\n",
    "\n",
    "$x^i$ values could easily be generated by `PolynomialFeatures`, while $w_i$ are the unknown paramaters to be estimated using `LinearRegression`."
   ]
  },
  {
   "cell_type": "code",
   "execution_count": 9,
   "metadata": {
    "ExecuteTime": {
     "end_time": "2022-02-16T07:39:34.647226Z",
     "start_time": "2022-02-16T07:39:34.639540Z"
    }
   },
   "outputs": [
    {
     "data": {
      "text/plain": [
       "array([[  1.,   1.,   1.,   1.],\n",
       "       [  3.,   9.,  27.,  81.],\n",
       "       [  4.,  16.,  64., 256.]])"
      ]
     },
     "execution_count": 9,
     "metadata": {},
     "output_type": "execute_result"
    }
   ],
   "source": [
    "PolynomialFeatures(degree=4, include_bias=False).fit_transform(X=[\n",
    "    [1],\n",
    "    [3],\n",
    "    [4],\n",
    "])"
   ]
  },
  {
   "cell_type": "code",
   "execution_count": 10,
   "metadata": {
    "ExecuteTime": {
     "end_time": "2022-02-16T07:40:49.993908Z",
     "start_time": "2022-02-16T07:40:49.959340Z"
    }
   },
   "outputs": [
    {
     "data": {
      "text/html": [
       "<style>#sk-ef190156-a47a-4753-9eea-0e375d6b3ac3 {color: black;background-color: white;}#sk-ef190156-a47a-4753-9eea-0e375d6b3ac3 pre{padding: 0;}#sk-ef190156-a47a-4753-9eea-0e375d6b3ac3 div.sk-toggleable {background-color: white;}#sk-ef190156-a47a-4753-9eea-0e375d6b3ac3 label.sk-toggleable__label {cursor: pointer;display: block;width: 100%;margin-bottom: 0;padding: 0.3em;box-sizing: border-box;text-align: center;}#sk-ef190156-a47a-4753-9eea-0e375d6b3ac3 label.sk-toggleable__label-arrow:before {content: \"▸\";float: left;margin-right: 0.25em;color: #696969;}#sk-ef190156-a47a-4753-9eea-0e375d6b3ac3 label.sk-toggleable__label-arrow:hover:before {color: black;}#sk-ef190156-a47a-4753-9eea-0e375d6b3ac3 div.sk-estimator:hover label.sk-toggleable__label-arrow:before {color: black;}#sk-ef190156-a47a-4753-9eea-0e375d6b3ac3 div.sk-toggleable__content {max-height: 0;max-width: 0;overflow: hidden;text-align: left;background-color: #f0f8ff;}#sk-ef190156-a47a-4753-9eea-0e375d6b3ac3 div.sk-toggleable__content pre {margin: 0.2em;color: black;border-radius: 0.25em;background-color: #f0f8ff;}#sk-ef190156-a47a-4753-9eea-0e375d6b3ac3 input.sk-toggleable__control:checked~div.sk-toggleable__content {max-height: 200px;max-width: 100%;overflow: auto;}#sk-ef190156-a47a-4753-9eea-0e375d6b3ac3 input.sk-toggleable__control:checked~label.sk-toggleable__label-arrow:before {content: \"▾\";}#sk-ef190156-a47a-4753-9eea-0e375d6b3ac3 div.sk-estimator input.sk-toggleable__control:checked~label.sk-toggleable__label {background-color: #d4ebff;}#sk-ef190156-a47a-4753-9eea-0e375d6b3ac3 div.sk-label input.sk-toggleable__control:checked~label.sk-toggleable__label {background-color: #d4ebff;}#sk-ef190156-a47a-4753-9eea-0e375d6b3ac3 input.sk-hidden--visually {border: 0;clip: rect(1px 1px 1px 1px);clip: rect(1px, 1px, 1px, 1px);height: 1px;margin: -1px;overflow: hidden;padding: 0;position: absolute;width: 1px;}#sk-ef190156-a47a-4753-9eea-0e375d6b3ac3 div.sk-estimator {font-family: monospace;background-color: #f0f8ff;border: 1px dotted black;border-radius: 0.25em;box-sizing: border-box;margin-bottom: 0.5em;}#sk-ef190156-a47a-4753-9eea-0e375d6b3ac3 div.sk-estimator:hover {background-color: #d4ebff;}#sk-ef190156-a47a-4753-9eea-0e375d6b3ac3 div.sk-parallel-item::after {content: \"\";width: 100%;border-bottom: 1px solid gray;flex-grow: 1;}#sk-ef190156-a47a-4753-9eea-0e375d6b3ac3 div.sk-label:hover label.sk-toggleable__label {background-color: #d4ebff;}#sk-ef190156-a47a-4753-9eea-0e375d6b3ac3 div.sk-serial::before {content: \"\";position: absolute;border-left: 1px solid gray;box-sizing: border-box;top: 2em;bottom: 0;left: 50%;}#sk-ef190156-a47a-4753-9eea-0e375d6b3ac3 div.sk-serial {display: flex;flex-direction: column;align-items: center;background-color: white;padding-right: 0.2em;padding-left: 0.2em;}#sk-ef190156-a47a-4753-9eea-0e375d6b3ac3 div.sk-item {z-index: 1;}#sk-ef190156-a47a-4753-9eea-0e375d6b3ac3 div.sk-parallel {display: flex;align-items: stretch;justify-content: center;background-color: white;}#sk-ef190156-a47a-4753-9eea-0e375d6b3ac3 div.sk-parallel::before {content: \"\";position: absolute;border-left: 1px solid gray;box-sizing: border-box;top: 2em;bottom: 0;left: 50%;}#sk-ef190156-a47a-4753-9eea-0e375d6b3ac3 div.sk-parallel-item {display: flex;flex-direction: column;position: relative;background-color: white;}#sk-ef190156-a47a-4753-9eea-0e375d6b3ac3 div.sk-parallel-item:first-child::after {align-self: flex-end;width: 50%;}#sk-ef190156-a47a-4753-9eea-0e375d6b3ac3 div.sk-parallel-item:last-child::after {align-self: flex-start;width: 50%;}#sk-ef190156-a47a-4753-9eea-0e375d6b3ac3 div.sk-parallel-item:only-child::after {width: 0;}#sk-ef190156-a47a-4753-9eea-0e375d6b3ac3 div.sk-dashed-wrapped {border: 1px dashed gray;margin: 0 0.4em 0.5em 0.4em;box-sizing: border-box;padding-bottom: 0.4em;background-color: white;position: relative;}#sk-ef190156-a47a-4753-9eea-0e375d6b3ac3 div.sk-label label {font-family: monospace;font-weight: bold;background-color: white;display: inline-block;line-height: 1.2em;}#sk-ef190156-a47a-4753-9eea-0e375d6b3ac3 div.sk-label-container {position: relative;z-index: 2;text-align: center;}#sk-ef190156-a47a-4753-9eea-0e375d6b3ac3 div.sk-container {/* jupyter's `normalize.less` sets `[hidden] { display: none; }` but bootstrap.min.css set `[hidden] { display: none !important; }` so we also need the `!important` here to be able to override the default hidden behavior on the sphinx rendered scikit-learn.org. See: https://github.com/scikit-learn/scikit-learn/issues/21755 */display: inline-block !important;position: relative;}#sk-ef190156-a47a-4753-9eea-0e375d6b3ac3 div.sk-text-repr-fallback {display: none;}</style><div id=\"sk-ef190156-a47a-4753-9eea-0e375d6b3ac3\" class=\"sk-top-container\"><div class=\"sk-text-repr-fallback\"><pre>Pipeline(steps=[(&#x27;pol&#x27;, PolynomialFeatures(include_bias=False)),\n",
       "                (&#x27;sca&#x27;, StandardScaler()), (&#x27;reg&#x27;, LinearRegression())])</pre><b>Please rerun this cell to show the HTML repr or trust the notebook.</b></div><div class=\"sk-container\" hidden><div class=\"sk-item sk-dashed-wrapped\"><div class=\"sk-label-container\"><div class=\"sk-label sk-toggleable\"><input class=\"sk-toggleable__control sk-hidden--visually\" id=\"7abde73f-0a03-462d-8635-375b2e82d63d\" type=\"checkbox\" ><label for=\"7abde73f-0a03-462d-8635-375b2e82d63d\" class=\"sk-toggleable__label sk-toggleable__label-arrow\">Pipeline</label><div class=\"sk-toggleable__content\"><pre>Pipeline(steps=[(&#x27;pol&#x27;, PolynomialFeatures(include_bias=False)),\n",
       "                (&#x27;sca&#x27;, StandardScaler()), (&#x27;reg&#x27;, LinearRegression())])</pre></div></div></div><div class=\"sk-serial\"><div class=\"sk-item\"><div class=\"sk-estimator sk-toggleable\"><input class=\"sk-toggleable__control sk-hidden--visually\" id=\"da6f0b94-c77b-4726-b447-8907ca75fa9e\" type=\"checkbox\" ><label for=\"da6f0b94-c77b-4726-b447-8907ca75fa9e\" class=\"sk-toggleable__label sk-toggleable__label-arrow\">PolynomialFeatures</label><div class=\"sk-toggleable__content\"><pre>PolynomialFeatures(include_bias=False)</pre></div></div></div><div class=\"sk-item\"><div class=\"sk-estimator sk-toggleable\"><input class=\"sk-toggleable__control sk-hidden--visually\" id=\"d219a6a3-fe7c-48d6-af2c-3cebfa6cd232\" type=\"checkbox\" ><label for=\"d219a6a3-fe7c-48d6-af2c-3cebfa6cd232\" class=\"sk-toggleable__label sk-toggleable__label-arrow\">StandardScaler</label><div class=\"sk-toggleable__content\"><pre>StandardScaler()</pre></div></div></div><div class=\"sk-item\"><div class=\"sk-estimator sk-toggleable\"><input class=\"sk-toggleable__control sk-hidden--visually\" id=\"64100517-2149-4f69-b780-0480d92909de\" type=\"checkbox\" ><label for=\"64100517-2149-4f69-b780-0480d92909de\" class=\"sk-toggleable__label sk-toggleable__label-arrow\">LinearRegression</label><div class=\"sk-toggleable__content\"><pre>LinearRegression()</pre></div></div></div></div></div></div></div>"
      ],
      "text/plain": [
       "Pipeline(steps=[('pol', PolynomialFeatures(include_bias=False)),\n",
       "                ('sca', StandardScaler()), ('reg', LinearRegression())])"
      ]
     },
     "metadata": {},
     "output_type": "display_data"
    },
    {
     "data": {
      "text/html": [
       "<style>#sk-2ddb673f-5c7f-429a-9eb9-1298283a871b {color: black;background-color: white;}#sk-2ddb673f-5c7f-429a-9eb9-1298283a871b pre{padding: 0;}#sk-2ddb673f-5c7f-429a-9eb9-1298283a871b div.sk-toggleable {background-color: white;}#sk-2ddb673f-5c7f-429a-9eb9-1298283a871b label.sk-toggleable__label {cursor: pointer;display: block;width: 100%;margin-bottom: 0;padding: 0.3em;box-sizing: border-box;text-align: center;}#sk-2ddb673f-5c7f-429a-9eb9-1298283a871b label.sk-toggleable__label-arrow:before {content: \"▸\";float: left;margin-right: 0.25em;color: #696969;}#sk-2ddb673f-5c7f-429a-9eb9-1298283a871b label.sk-toggleable__label-arrow:hover:before {color: black;}#sk-2ddb673f-5c7f-429a-9eb9-1298283a871b div.sk-estimator:hover label.sk-toggleable__label-arrow:before {color: black;}#sk-2ddb673f-5c7f-429a-9eb9-1298283a871b div.sk-toggleable__content {max-height: 0;max-width: 0;overflow: hidden;text-align: left;background-color: #f0f8ff;}#sk-2ddb673f-5c7f-429a-9eb9-1298283a871b div.sk-toggleable__content pre {margin: 0.2em;color: black;border-radius: 0.25em;background-color: #f0f8ff;}#sk-2ddb673f-5c7f-429a-9eb9-1298283a871b input.sk-toggleable__control:checked~div.sk-toggleable__content {max-height: 200px;max-width: 100%;overflow: auto;}#sk-2ddb673f-5c7f-429a-9eb9-1298283a871b input.sk-toggleable__control:checked~label.sk-toggleable__label-arrow:before {content: \"▾\";}#sk-2ddb673f-5c7f-429a-9eb9-1298283a871b div.sk-estimator input.sk-toggleable__control:checked~label.sk-toggleable__label {background-color: #d4ebff;}#sk-2ddb673f-5c7f-429a-9eb9-1298283a871b div.sk-label input.sk-toggleable__control:checked~label.sk-toggleable__label {background-color: #d4ebff;}#sk-2ddb673f-5c7f-429a-9eb9-1298283a871b input.sk-hidden--visually {border: 0;clip: rect(1px 1px 1px 1px);clip: rect(1px, 1px, 1px, 1px);height: 1px;margin: -1px;overflow: hidden;padding: 0;position: absolute;width: 1px;}#sk-2ddb673f-5c7f-429a-9eb9-1298283a871b div.sk-estimator {font-family: monospace;background-color: #f0f8ff;border: 1px dotted black;border-radius: 0.25em;box-sizing: border-box;margin-bottom: 0.5em;}#sk-2ddb673f-5c7f-429a-9eb9-1298283a871b div.sk-estimator:hover {background-color: #d4ebff;}#sk-2ddb673f-5c7f-429a-9eb9-1298283a871b div.sk-parallel-item::after {content: \"\";width: 100%;border-bottom: 1px solid gray;flex-grow: 1;}#sk-2ddb673f-5c7f-429a-9eb9-1298283a871b div.sk-label:hover label.sk-toggleable__label {background-color: #d4ebff;}#sk-2ddb673f-5c7f-429a-9eb9-1298283a871b div.sk-serial::before {content: \"\";position: absolute;border-left: 1px solid gray;box-sizing: border-box;top: 2em;bottom: 0;left: 50%;}#sk-2ddb673f-5c7f-429a-9eb9-1298283a871b div.sk-serial {display: flex;flex-direction: column;align-items: center;background-color: white;padding-right: 0.2em;padding-left: 0.2em;}#sk-2ddb673f-5c7f-429a-9eb9-1298283a871b div.sk-item {z-index: 1;}#sk-2ddb673f-5c7f-429a-9eb9-1298283a871b div.sk-parallel {display: flex;align-items: stretch;justify-content: center;background-color: white;}#sk-2ddb673f-5c7f-429a-9eb9-1298283a871b div.sk-parallel::before {content: \"\";position: absolute;border-left: 1px solid gray;box-sizing: border-box;top: 2em;bottom: 0;left: 50%;}#sk-2ddb673f-5c7f-429a-9eb9-1298283a871b div.sk-parallel-item {display: flex;flex-direction: column;position: relative;background-color: white;}#sk-2ddb673f-5c7f-429a-9eb9-1298283a871b div.sk-parallel-item:first-child::after {align-self: flex-end;width: 50%;}#sk-2ddb673f-5c7f-429a-9eb9-1298283a871b div.sk-parallel-item:last-child::after {align-self: flex-start;width: 50%;}#sk-2ddb673f-5c7f-429a-9eb9-1298283a871b div.sk-parallel-item:only-child::after {width: 0;}#sk-2ddb673f-5c7f-429a-9eb9-1298283a871b div.sk-dashed-wrapped {border: 1px dashed gray;margin: 0 0.4em 0.5em 0.4em;box-sizing: border-box;padding-bottom: 0.4em;background-color: white;position: relative;}#sk-2ddb673f-5c7f-429a-9eb9-1298283a871b div.sk-label label {font-family: monospace;font-weight: bold;background-color: white;display: inline-block;line-height: 1.2em;}#sk-2ddb673f-5c7f-429a-9eb9-1298283a871b div.sk-label-container {position: relative;z-index: 2;text-align: center;}#sk-2ddb673f-5c7f-429a-9eb9-1298283a871b div.sk-container {/* jupyter's `normalize.less` sets `[hidden] { display: none; }` but bootstrap.min.css set `[hidden] { display: none !important; }` so we also need the `!important` here to be able to override the default hidden behavior on the sphinx rendered scikit-learn.org. See: https://github.com/scikit-learn/scikit-learn/issues/21755 */display: inline-block !important;position: relative;}#sk-2ddb673f-5c7f-429a-9eb9-1298283a871b div.sk-text-repr-fallback {display: none;}</style><div id=\"sk-2ddb673f-5c7f-429a-9eb9-1298283a871b\" class=\"sk-top-container\"><div class=\"sk-text-repr-fallback\"><pre>Pipeline(steps=[(&#x27;pol&#x27;, PolynomialFeatures(include_bias=False)),\n",
       "                (&#x27;sca&#x27;, StandardScaler()),\n",
       "                (&#x27;reg&#x27;, Lasso(alpha=0.1, max_iter=50000, random_state=42))])</pre><b>Please rerun this cell to show the HTML repr or trust the notebook.</b></div><div class=\"sk-container\" hidden><div class=\"sk-item sk-dashed-wrapped\"><div class=\"sk-label-container\"><div class=\"sk-label sk-toggleable\"><input class=\"sk-toggleable__control sk-hidden--visually\" id=\"7656c047-8ae1-499f-a5d9-0909fb1395e5\" type=\"checkbox\" ><label for=\"7656c047-8ae1-499f-a5d9-0909fb1395e5\" class=\"sk-toggleable__label sk-toggleable__label-arrow\">Pipeline</label><div class=\"sk-toggleable__content\"><pre>Pipeline(steps=[(&#x27;pol&#x27;, PolynomialFeatures(include_bias=False)),\n",
       "                (&#x27;sca&#x27;, StandardScaler()),\n",
       "                (&#x27;reg&#x27;, Lasso(alpha=0.1, max_iter=50000, random_state=42))])</pre></div></div></div><div class=\"sk-serial\"><div class=\"sk-item\"><div class=\"sk-estimator sk-toggleable\"><input class=\"sk-toggleable__control sk-hidden--visually\" id=\"eb8fdf09-58a5-401c-ab2e-58e856db3ea6\" type=\"checkbox\" ><label for=\"eb8fdf09-58a5-401c-ab2e-58e856db3ea6\" class=\"sk-toggleable__label sk-toggleable__label-arrow\">PolynomialFeatures</label><div class=\"sk-toggleable__content\"><pre>PolynomialFeatures(include_bias=False)</pre></div></div></div><div class=\"sk-item\"><div class=\"sk-estimator sk-toggleable\"><input class=\"sk-toggleable__control sk-hidden--visually\" id=\"5ad1a1f8-f4f1-4ea0-a150-fa39f1142159\" type=\"checkbox\" ><label for=\"5ad1a1f8-f4f1-4ea0-a150-fa39f1142159\" class=\"sk-toggleable__label sk-toggleable__label-arrow\">StandardScaler</label><div class=\"sk-toggleable__content\"><pre>StandardScaler()</pre></div></div></div><div class=\"sk-item\"><div class=\"sk-estimator sk-toggleable\"><input class=\"sk-toggleable__control sk-hidden--visually\" id=\"3a7b04b4-ff50-42d5-bb0d-f4ec9d5e3921\" type=\"checkbox\" ><label for=\"3a7b04b4-ff50-42d5-bb0d-f4ec9d5e3921\" class=\"sk-toggleable__label sk-toggleable__label-arrow\">Lasso</label><div class=\"sk-toggleable__content\"><pre>Lasso(alpha=0.1, max_iter=50000, random_state=42)</pre></div></div></div></div></div></div></div>"
      ],
      "text/plain": [
       "Pipeline(steps=[('pol', PolynomialFeatures(include_bias=False)),\n",
       "                ('sca', StandardScaler()),\n",
       "                ('reg', Lasso(alpha=0.1, max_iter=50000, random_state=42))])"
      ]
     },
     "metadata": {},
     "output_type": "display_data"
    },
    {
     "data": {
      "text/html": [
       "<style>#sk-48e8ec4a-f8c2-46e7-87ae-99e1d9fe63a6 {color: black;background-color: white;}#sk-48e8ec4a-f8c2-46e7-87ae-99e1d9fe63a6 pre{padding: 0;}#sk-48e8ec4a-f8c2-46e7-87ae-99e1d9fe63a6 div.sk-toggleable {background-color: white;}#sk-48e8ec4a-f8c2-46e7-87ae-99e1d9fe63a6 label.sk-toggleable__label {cursor: pointer;display: block;width: 100%;margin-bottom: 0;padding: 0.3em;box-sizing: border-box;text-align: center;}#sk-48e8ec4a-f8c2-46e7-87ae-99e1d9fe63a6 label.sk-toggleable__label-arrow:before {content: \"▸\";float: left;margin-right: 0.25em;color: #696969;}#sk-48e8ec4a-f8c2-46e7-87ae-99e1d9fe63a6 label.sk-toggleable__label-arrow:hover:before {color: black;}#sk-48e8ec4a-f8c2-46e7-87ae-99e1d9fe63a6 div.sk-estimator:hover label.sk-toggleable__label-arrow:before {color: black;}#sk-48e8ec4a-f8c2-46e7-87ae-99e1d9fe63a6 div.sk-toggleable__content {max-height: 0;max-width: 0;overflow: hidden;text-align: left;background-color: #f0f8ff;}#sk-48e8ec4a-f8c2-46e7-87ae-99e1d9fe63a6 div.sk-toggleable__content pre {margin: 0.2em;color: black;border-radius: 0.25em;background-color: #f0f8ff;}#sk-48e8ec4a-f8c2-46e7-87ae-99e1d9fe63a6 input.sk-toggleable__control:checked~div.sk-toggleable__content {max-height: 200px;max-width: 100%;overflow: auto;}#sk-48e8ec4a-f8c2-46e7-87ae-99e1d9fe63a6 input.sk-toggleable__control:checked~label.sk-toggleable__label-arrow:before {content: \"▾\";}#sk-48e8ec4a-f8c2-46e7-87ae-99e1d9fe63a6 div.sk-estimator input.sk-toggleable__control:checked~label.sk-toggleable__label {background-color: #d4ebff;}#sk-48e8ec4a-f8c2-46e7-87ae-99e1d9fe63a6 div.sk-label input.sk-toggleable__control:checked~label.sk-toggleable__label {background-color: #d4ebff;}#sk-48e8ec4a-f8c2-46e7-87ae-99e1d9fe63a6 input.sk-hidden--visually {border: 0;clip: rect(1px 1px 1px 1px);clip: rect(1px, 1px, 1px, 1px);height: 1px;margin: -1px;overflow: hidden;padding: 0;position: absolute;width: 1px;}#sk-48e8ec4a-f8c2-46e7-87ae-99e1d9fe63a6 div.sk-estimator {font-family: monospace;background-color: #f0f8ff;border: 1px dotted black;border-radius: 0.25em;box-sizing: border-box;margin-bottom: 0.5em;}#sk-48e8ec4a-f8c2-46e7-87ae-99e1d9fe63a6 div.sk-estimator:hover {background-color: #d4ebff;}#sk-48e8ec4a-f8c2-46e7-87ae-99e1d9fe63a6 div.sk-parallel-item::after {content: \"\";width: 100%;border-bottom: 1px solid gray;flex-grow: 1;}#sk-48e8ec4a-f8c2-46e7-87ae-99e1d9fe63a6 div.sk-label:hover label.sk-toggleable__label {background-color: #d4ebff;}#sk-48e8ec4a-f8c2-46e7-87ae-99e1d9fe63a6 div.sk-serial::before {content: \"\";position: absolute;border-left: 1px solid gray;box-sizing: border-box;top: 2em;bottom: 0;left: 50%;}#sk-48e8ec4a-f8c2-46e7-87ae-99e1d9fe63a6 div.sk-serial {display: flex;flex-direction: column;align-items: center;background-color: white;padding-right: 0.2em;padding-left: 0.2em;}#sk-48e8ec4a-f8c2-46e7-87ae-99e1d9fe63a6 div.sk-item {z-index: 1;}#sk-48e8ec4a-f8c2-46e7-87ae-99e1d9fe63a6 div.sk-parallel {display: flex;align-items: stretch;justify-content: center;background-color: white;}#sk-48e8ec4a-f8c2-46e7-87ae-99e1d9fe63a6 div.sk-parallel::before {content: \"\";position: absolute;border-left: 1px solid gray;box-sizing: border-box;top: 2em;bottom: 0;left: 50%;}#sk-48e8ec4a-f8c2-46e7-87ae-99e1d9fe63a6 div.sk-parallel-item {display: flex;flex-direction: column;position: relative;background-color: white;}#sk-48e8ec4a-f8c2-46e7-87ae-99e1d9fe63a6 div.sk-parallel-item:first-child::after {align-self: flex-end;width: 50%;}#sk-48e8ec4a-f8c2-46e7-87ae-99e1d9fe63a6 div.sk-parallel-item:last-child::after {align-self: flex-start;width: 50%;}#sk-48e8ec4a-f8c2-46e7-87ae-99e1d9fe63a6 div.sk-parallel-item:only-child::after {width: 0;}#sk-48e8ec4a-f8c2-46e7-87ae-99e1d9fe63a6 div.sk-dashed-wrapped {border: 1px dashed gray;margin: 0 0.4em 0.5em 0.4em;box-sizing: border-box;padding-bottom: 0.4em;background-color: white;position: relative;}#sk-48e8ec4a-f8c2-46e7-87ae-99e1d9fe63a6 div.sk-label label {font-family: monospace;font-weight: bold;background-color: white;display: inline-block;line-height: 1.2em;}#sk-48e8ec4a-f8c2-46e7-87ae-99e1d9fe63a6 div.sk-label-container {position: relative;z-index: 2;text-align: center;}#sk-48e8ec4a-f8c2-46e7-87ae-99e1d9fe63a6 div.sk-container {/* jupyter's `normalize.less` sets `[hidden] { display: none; }` but bootstrap.min.css set `[hidden] { display: none !important; }` so we also need the `!important` here to be able to override the default hidden behavior on the sphinx rendered scikit-learn.org. See: https://github.com/scikit-learn/scikit-learn/issues/21755 */display: inline-block !important;position: relative;}#sk-48e8ec4a-f8c2-46e7-87ae-99e1d9fe63a6 div.sk-text-repr-fallback {display: none;}</style><div id=\"sk-48e8ec4a-f8c2-46e7-87ae-99e1d9fe63a6\" class=\"sk-top-container\"><div class=\"sk-text-repr-fallback\"><pre>Pipeline(steps=[(&#x27;pol&#x27;, PolynomialFeatures(include_bias=False)),\n",
       "                (&#x27;sca&#x27;, StandardScaler()),\n",
       "                (&#x27;reg&#x27;, Ridge(alpha=0.1, max_iter=50000, random_state=42))])</pre><b>Please rerun this cell to show the HTML repr or trust the notebook.</b></div><div class=\"sk-container\" hidden><div class=\"sk-item sk-dashed-wrapped\"><div class=\"sk-label-container\"><div class=\"sk-label sk-toggleable\"><input class=\"sk-toggleable__control sk-hidden--visually\" id=\"405b321a-e39c-44e2-bd53-68225496ac51\" type=\"checkbox\" ><label for=\"405b321a-e39c-44e2-bd53-68225496ac51\" class=\"sk-toggleable__label sk-toggleable__label-arrow\">Pipeline</label><div class=\"sk-toggleable__content\"><pre>Pipeline(steps=[(&#x27;pol&#x27;, PolynomialFeatures(include_bias=False)),\n",
       "                (&#x27;sca&#x27;, StandardScaler()),\n",
       "                (&#x27;reg&#x27;, Ridge(alpha=0.1, max_iter=50000, random_state=42))])</pre></div></div></div><div class=\"sk-serial\"><div class=\"sk-item\"><div class=\"sk-estimator sk-toggleable\"><input class=\"sk-toggleable__control sk-hidden--visually\" id=\"850ded00-4252-4d15-80bb-c935a4a488a2\" type=\"checkbox\" ><label for=\"850ded00-4252-4d15-80bb-c935a4a488a2\" class=\"sk-toggleable__label sk-toggleable__label-arrow\">PolynomialFeatures</label><div class=\"sk-toggleable__content\"><pre>PolynomialFeatures(include_bias=False)</pre></div></div></div><div class=\"sk-item\"><div class=\"sk-estimator sk-toggleable\"><input class=\"sk-toggleable__control sk-hidden--visually\" id=\"a7715f54-3a97-467a-b4d7-fedc8d067e71\" type=\"checkbox\" ><label for=\"a7715f54-3a97-467a-b4d7-fedc8d067e71\" class=\"sk-toggleable__label sk-toggleable__label-arrow\">StandardScaler</label><div class=\"sk-toggleable__content\"><pre>StandardScaler()</pre></div></div></div><div class=\"sk-item\"><div class=\"sk-estimator sk-toggleable\"><input class=\"sk-toggleable__control sk-hidden--visually\" id=\"ce8bbcc7-3729-485f-a7dd-80703a17c1cd\" type=\"checkbox\" ><label for=\"ce8bbcc7-3729-485f-a7dd-80703a17c1cd\" class=\"sk-toggleable__label sk-toggleable__label-arrow\">Ridge</label><div class=\"sk-toggleable__content\"><pre>Ridge(alpha=0.1, max_iter=50000, random_state=42)</pre></div></div></div></div></div></div></div>"
      ],
      "text/plain": [
       "Pipeline(steps=[('pol', PolynomialFeatures(include_bias=False)),\n",
       "                ('sca', StandardScaler()),\n",
       "                ('reg', Ridge(alpha=0.1, max_iter=50000, random_state=42))])"
      ]
     },
     "metadata": {},
     "output_type": "display_data"
    }
   ],
   "source": [
    "def make_model(degree, alpha=0, penalty=None):\n",
    "    # linear regression\n",
    "    if alpha == 0:\n",
    "        regressor = LinearRegression()\n",
    "    # lasso regression\",\n",
    "    elif penalty == 'L1':\n",
    "        regressor = Lasso(alpha=alpha, random_state=SEED, max_iter=50000)\n",
    "    # ridge regression\",\n",
    "    elif penalty == 'L2':\n",
    "        regressor = Ridge(alpha=alpha, random_state=SEED, max_iter=50000) \n",
    "    \n",
    "    \n",
    "    return Pipeline([\n",
    "        ('pol', PolynomialFeatures(degree, include_bias=(degree == 0))),\n",
    "        ('sca', StandardScaler()),\n",
    "        ('reg', regressor)\n",
    "    ])\n",
    "\n",
    "display(make_model(2))\n",
    "display(make_model(2, penalty='L1', alpha=0.1))\n",
    "display(make_model(2, penalty='L2', alpha=0.1))"
   ]
  },
  {
   "cell_type": "markdown",
   "metadata": {},
   "source": [
    "### Fit"
   ]
  },
  {
   "cell_type": "markdown",
   "metadata": {},
   "source": [
    "Let's fit a model and plot the hypothesis it learns:"
   ]
  },
  {
   "cell_type": "code",
   "execution_count": 11,
   "metadata": {
    "ExecuteTime": {
     "end_time": "2022-02-16T07:40:51.426785Z",
     "start_time": "2022-02-16T07:40:51.209830Z"
    }
   },
   "outputs": [
    {
     "data": {
      "image/png": "[encoded data removed]",
      "text/plain": [
       "<Figure size 432x288 with 1 Axes>"
      ]
     },
     "metadata": {
      "needs_background": "light"
     },
     "output_type": "display_data"
    }
   ],
   "source": [
    "def plot_fit(model):\n",
    "    degree = model['pol'].degree\n",
    "    X_range = np.linspace(*RANGE, 1000).reshape(-1, 1)\n",
    "    y_pred = model.predict(X_range)\n",
    "    plot_scatter(X_train, y_train, label='Training sample')\n",
    "    plot_scatter(X_valid, y_valid, label='Validation sample')\n",
    "    plt.plot(X_range, target_function(X_range), c='green', alpha=0.2, lw=5, label='Target function')\n",
    "    plt.plot(X_range, y_pred, c='red', label='Hypothesis')\n",
    "    plt.ylim((min(y) - 3, max(y) + 3))\n",
    "    plt.legend(loc='best')    \n",
    "    plt.title(f'Polynomial approximation: degree={degree}')\n",
    "    plt.show()\n",
    "\n",
    "plot_fit(make_model(degree=2).fit(X_train, y_train))"
   ]
  },
  {
   "cell_type": "markdown",
   "metadata": {},
   "source": [
    "### From underfitting to overfitting"
   ]
  },
  {
   "cell_type": "markdown",
   "metadata": {
    "ExecuteTime": {
     "end_time": "2020-11-09T11:15:24.323458Z",
     "start_time": "2020-11-09T11:15:24.318089Z"
    }
   },
   "source": [
    "We can investigate the shape of the fitted curve for different values of `degree`:"
   ]
  },
  {
   "cell_type": "code",
   "execution_count": 12,
   "metadata": {
    "ExecuteTime": {
     "end_time": "2022-02-16T07:40:54.236522Z",
     "start_time": "2022-02-16T07:40:52.748262Z"
    },
    "scrolled": false
   },
   "outputs": [
    {
     "data": {
      "image/png": "[encoded data removed]",
      "text/plain": [
       "<Figure size 432x288 with 1 Axes>"
      ]
     },
     "metadata": {
      "needs_background": "light"
     },
     "output_type": "display_data"
    },
    {
     "data": {
      "image/png": "[encoded data removed]",
      "text/plain": [
       "<Figure size 432x288 with 1 Axes>"
      ]
     },
     "metadata": {
      "needs_background": "light"
     },
     "output_type": "display_data"
    },
    {
     "data": {
      "image/png": "[encoded data removed]",
      "text/plain": [
       "<Figure size 432x288 with 1 Axes>"
      ]
     },
     "metadata": {
      "needs_background": "light"
     },
     "output_type": "display_data"
    },
    {
     "data": {
      "image/png": "[encoded data removed]",
      "text/plain": [
       "<Figure size 432x288 with 1 Axes>"
      ]
     },
     "metadata": {
      "needs_background": "light"
     },
     "output_type": "display_data"
    },
    {
     "data": {
      "image/png": "[encoded data removed]",
      "text/plain": [
       "<Figure size 432x288 with 1 Axes>"
      ]
     },
     "metadata": {
      "needs_background": "light"
     },
     "output_type": "display_data"
    },
    {
     "data": {
      "image/png": "[encoded data removed]",
      "text/plain": [
       "<Figure size 432x288 with 1 Axes>"
      ]
     },
     "metadata": {
      "needs_background": "light"
     },
     "output_type": "display_data"
    },
    {
     "data": {
      "image/png": "[encoded data removed]",
      "text/plain": [
       "<Figure size 432x288 with 1 Axes>"
      ]
     },
     "metadata": {
      "needs_background": "light"
     },
     "output_type": "display_data"
    },
    {
     "data": {
      "image/png": "[encoded data removed]",
      "text/plain": [
       "<Figure size 432x288 with 1 Axes>"
      ]
     },
     "metadata": {
      "needs_background": "light"
     },
     "output_type": "display_data"
    },
    {
     "data": {
      "image/png": "[encoded data removed]",
      "text/plain": [
       "<Figure size 432x288 with 1 Axes>"
      ]
     },
     "metadata": {
      "needs_background": "light"
     },
     "output_type": "display_data"
    }
   ],
   "source": [
    "for degree in [0, 1, 2, 3, 4, 5, 10, 15, 20]:\n",
    "    plot_fit(make_model(degree).fit(X_train, y_train))"
   ]
  },
  {
   "cell_type": "markdown",
   "metadata": {},
   "source": [
    "### Fitting graph"
   ]
  },
  {
   "cell_type": "markdown",
   "metadata": {},
   "source": [
    "In the next step we calculate the training and the validation error for each `degree` and plot them in a single graph. The resulting graph is called the fitting graph."
   ]
  },
  {
   "cell_type": "code",
   "execution_count": 13,
   "metadata": {
    "ExecuteTime": {
     "end_time": "2021-12-15T20:32:47.308471Z",
     "start_time": "2021-12-15T20:32:47.036535Z"
    }
   },
   "outputs": [
    {
     "data": {
      "image/png": "[encoded data removed]",
      "text/plain": [
       "<Figure size 648x324 with 1 Axes>"
      ]
     },
     "metadata": {
      "needs_background": "light"
     },
     "output_type": "display_data"
    }
   ],
   "source": [
    "def rmse(y_true, y_pred):\n",
    "    return np.sqrt(mean_squared_error(y_true, y_pred))\n",
    "\n",
    "def plot_fitting_graph(x, metric_train, metric_valid, xlabel, ylabel, \n",
    "                       custom_metric=None, custom_label='', custom_scale='log', title='Fitting graph'):\n",
    "    plt.figure(figsize=(9, 4.5))\n",
    "    plt.plot(x, metric_train, label='Training')\n",
    "    plt.plot(x, metric_valid, color='C1', label='Validation')\n",
    "    plt.axvline(x[np.argmin(metric_valid)], color='C1', lw=10, alpha=0.2)\n",
    "    plt.title(title)\n",
    "    plt.xlabel(xlabel)\n",
    "    plt.ylabel(ylabel)\n",
    "    plt.grid(True)\n",
    "    plt.xticks(x, rotation='vertical')\n",
    "    plt.legend(loc='center left')        \n",
    "    if custom_metric:\n",
    "        plt.twinx()\n",
    "        plt.yscale(custom_scale)\n",
    "        plt.plot(x, custom_metric, alpha=0.2, lw=4, ls='dotted', color='black', label=custom_label) \n",
    "        plt.legend(loc='center right')         \n",
    "    plt.show()\n",
    "    \n",
    "rmse_train, rmse_valid = [], []\n",
    "for degree in DEGREES:\n",
    "    reg = make_model(degree).fit(X_train, y_train)\n",
    "    rmse_train.append(rmse(reg.predict(X_train), y_train))\n",
    "    rmse_valid.append(rmse(reg.predict(X_valid), y_valid))\n",
    "    \n",
    "plot_fitting_graph(DEGREES, rmse_train, rmse_valid, xlabel='Complexity (degree)', ylabel='Error (RMSE)', \n",
    "                   title='Least squares polynomial regression')"
   ]
  },
  {
   "cell_type": "markdown",
   "metadata": {},
   "source": [
    "### Sweet spot"
   ]
  },
  {
   "cell_type": "markdown",
   "metadata": {},
   "source": [
    "What is the optimal `degree` to go with?"
   ]
  },
  {
   "cell_type": "code",
   "execution_count": 14,
   "metadata": {
    "ExecuteTime": {
     "end_time": "2021-12-15T20:32:47.324492Z",
     "start_time": "2021-12-15T20:32:47.308471Z"
    }
   },
   "outputs": [
    {
     "data": {
      "text/plain": [
       "5"
      ]
     },
     "execution_count": 14,
     "metadata": {},
     "output_type": "execute_result"
    }
   ],
   "source": [
    "DEGREES[np.argmin(rmse_valid)]"
   ]
  },
  {
   "cell_type": "markdown",
   "metadata": {},
   "source": [
    "### Cross-validation"
   ]
  },
  {
   "cell_type": "markdown",
   "metadata": {},
   "source": [
    "Ideally, we would choose the the model parameters such that we have the best model performance. However, we want to make sure that we really have the best validation performance. When we do `train_test_split` we randomly split the data into two parts. What could happen is that we got lucky and split the data such that it favours the validation error. This is especially dangerous if we are dealing with small datasets. One way to check if that's the case is to run the experiment several times for different, random splits. However, there is an even more systematic way of doing this: [cross-validation](https://scikit-learn.org/stable/modules/cross_validation.html)."
   ]
  },
  {
   "cell_type": "markdown",
   "metadata": {},
   "source": [
    "<img src=\"https://scikit-learn.org/stable/_images/grid_search_cross_validation.png\" width=50% />"
   ]
  },
  {
   "cell_type": "code",
   "execution_count": 15,
   "metadata": {
    "ExecuteTime": {
     "end_time": "2021-12-15T20:32:47.788153Z",
     "start_time": "2021-12-15T20:32:47.324492Z"
    }
   },
   "outputs": [
    {
     "data": {
      "image/png": "[encoded data removed]",
      "text/plain": [
       "<Figure size 648x324 with 1 Axes>"
      ]
     },
     "metadata": {
      "needs_background": "light"
     },
     "output_type": "display_data"
    }
   ],
   "source": [
    "rmse_train, rmse_valid = [], []\n",
    "for degree in DEGREES:\n",
    "    results = cross_validate(make_model(degree), \n",
    "                             X, y, cv=5,\n",
    "                             return_train_score=True,\n",
    "                             scoring='neg_root_mean_squared_error')\n",
    "    rmse_train.append(-np.mean(results['train_score']))\n",
    "    rmse_valid.append(-np.mean(results['test_score']))\n",
    "    \n",
    "plot_fitting_graph(DEGREES, rmse_train, rmse_valid, xlabel='Complexity (degree)', ylabel='Error (RMSE)',\n",
    "                   title='Least squares polynomial regression')"
   ]
  },
  {
   "cell_type": "markdown",
   "metadata": {},
   "source": [
    "### Model coefficients"
   ]
  },
  {
   "cell_type": "markdown",
   "metadata": {
    "ExecuteTime": {
     "end_time": "2020-11-05T16:26:33.200639Z",
     "start_time": "2020-11-05T16:26:33.197656Z"
    }
   },
   "source": [
    "Let's inspect our regression model coefficients:"
   ]
  },
  {
   "cell_type": "code",
   "execution_count": 16,
   "metadata": {
    "ExecuteTime": {
     "end_time": "2021-12-15T20:32:47.820142Z",
     "start_time": "2021-12-15T20:32:47.788153Z"
    }
   },
   "outputs": [
    {
     "data": {
      "text/plain": [
       "(array([2.81292778]),\n",
       " array([2.80049884, 0.45166501]),\n",
       " array([ 30.87315584,   1.48752361, -54.60227825,  -1.63699842,\n",
       "         26.62792933]),\n",
       " array([  33.63850705,  -41.86346242,  -70.48743112,  278.98853452,\n",
       "          27.48125634, -656.36383501,   59.32988346,  651.64795186,\n",
       "         -47.55728814, -233.48455138]))"
      ]
     },
     "execution_count": 16,
     "metadata": {},
     "output_type": "execute_result"
    }
   ],
   "source": [
    "(make_model(degree=1).fit(X_train, y_train)['reg'].coef_,\n",
    " make_model(degree=2).fit(X_train, y_train)['reg'].coef_,\n",
    " make_model(degree=5).fit(X_train, y_train)['reg'].coef_,\n",
    " make_model(degree=10).fit(X_train, y_train)['reg'].coef_)"
   ]
  },
  {
   "cell_type": "markdown",
   "metadata": {},
   "source": [
    "Hmm... it looks like high degree polynomials are coming with much bigger regression coefficients. \n",
    "\n",
    "We are going to plot the mean absolute value of $w_i$ as a function of degree to reveal the relationship:"
   ]
  },
  {
   "cell_type": "code",
   "execution_count": 17,
   "metadata": {
    "ExecuteTime": {
     "end_time": "2021-12-15T20:32:48.876099Z",
     "start_time": "2021-12-15T20:32:47.820142Z"
    }
   },
   "outputs": [
    {
     "data": {
      "image/png": "[encoded data removed]",
      "text/plain": [
       "<Figure size 648x324 with 2 Axes>"
      ]
     },
     "metadata": {
      "needs_background": "light"
     },
     "output_type": "display_data"
    }
   ],
   "source": [
    "rmse_train, rmse_valid, avg_coef = [], [], []\n",
    "for degree in DEGREES:\n",
    "    results = cross_validate(make_model(degree),\n",
    "                             X, y, cv=5,\n",
    "                             return_train_score=True, return_estimator=True,\n",
    "                             scoring='neg_root_mean_squared_error')\n",
    "    rmse_train.append(-np.mean(results['train_score']))\n",
    "    rmse_valid.append(-np.mean(results['test_score']))        \n",
    "    avg_coef.append(        \n",
    "        # average over CV folds\n",
    "        np.mean([            \n",
    "            # mean absolute value of weights\n",
    "            np.mean(np.abs(model['reg'].coef_))\n",
    "            for model in results['estimator']\n",
    "        ]))\n",
    "    \n",
    "plot_fitting_graph(DEGREES, rmse_train, rmse_valid,\n",
    "                   xlabel='Complexity (degree)', ylabel='Error (RMSE)',\n",
    "                   custom_metric=avg_coef, custom_label='avg(|$w_i$|)',\n",
    "                   title='Least squares polynomial regression')"
   ]
  },
  {
   "cell_type": "markdown",
   "metadata": {
    "ExecuteTime": {
     "end_time": "2020-11-09T15:24:18.245064Z",
     "start_time": "2020-11-09T15:24:18.241548Z"
    }
   },
   "source": [
    "### Summary"
   ]
  },
  {
   "cell_type": "markdown",
   "metadata": {},
   "source": [
    "We observe the following:\n",
    "\n",
    "1. **Underfitting** (degree < 5): The model is not able to fit the data properly. The fit is bad for both the training and the validation set.\n",
    "\n",
    "2. **Fit is just right** (degree = 5): The model is able to capture the underlying data distribution. The fit is good for both the training and the validation set.\n",
    "\n",
    "3. **Overfitting** (degree > 5): The model starts fitting the noise in the dataset. While the fit for the training data gets even better, the fit for the validation set gets worse.\n",
    "\n",
    "4. As the order of polynomial increases, the linear model coefficients become more likely to take on **large values**."
   ]
  },
  {
   "cell_type": "markdown",
   "metadata": {
    "ExecuteTime": {
     "end_time": "2020-11-03T08:47:28.699189Z",
     "start_time": "2020-11-03T08:47:28.695466Z"
    }
   },
   "source": [
    "## Part 2: Regularization"
   ]
  },
  {
   "cell_type": "markdown",
   "metadata": {},
   "source": [
    "There are two major ways to build a machine learning model with the ability to generalize well on unseen data:\n",
    "1. Train the simplest model possible for our purpose (according to Occam’s Razor).\n",
    "2. Train a complex or more expressive model on the data and perform regularization.\n",
    "\n",
    "Regularization is a method used to reduce the variance of a machine learning model. In other words, it is used to reduce overfitting. Regularization penalizes a model for being complex. For linear models, it means regularization forces model coefficients to be smaller in magnitude.\n",
    "\n",
    "Let's pick a polynomial model of degree **15** (which tends to overfit strongly) and try to regularize it using **L1** and **L2** penalties."
   ]
  },
  {
   "cell_type": "markdown",
   "metadata": {},
   "source": [
    "### L1 - Lasso regression"
   ]
  },
  {
   "cell_type": "code",
   "execution_count": 18,
   "metadata": {
    "ExecuteTime": {
     "end_time": "2021-12-15T20:32:49.851006Z",
     "start_time": "2021-12-15T20:32:48.876099Z"
    },
    "scrolled": false
   },
   "outputs": [
    {
     "data": {
      "image/png": "[encoded data removed]",
      "text/plain": [
       "<Figure size 648x324 with 1 Axes>"
      ]
     },
     "metadata": {
      "needs_background": "light"
     },
     "output_type": "display_data"
    }
   ],
   "source": [
    "rmse_train, rmse_valid = [], []\n",
    "for alpha in ALPHAS:    \n",
    "    results = cross_validate(make_model(degree=15, penalty='L1', alpha=alpha), \n",
    "                             X, y, cv=5,\n",
    "                             return_train_score=True,\n",
    "                             scoring='neg_root_mean_squared_error')\n",
    "    rmse_train.append(-np.mean(results['train_score']))\n",
    "    rmse_valid.append(-np.mean(results['test_score']))\n",
    "    \n",
    "plot_fitting_graph(ALPHAS, rmse_train, rmse_valid,\n",
    "                   xlabel='Regularization strength (alpha)', ylabel='Error (RMSE)',\n",
    "                   title='Lasso polynomial regression (L1): degree=15')"
   ]
  },
  {
   "cell_type": "markdown",
   "metadata": {},
   "source": [
    "### L2 - Ridge regression"
   ]
  },
  {
   "cell_type": "code",
   "execution_count": 19,
   "metadata": {
    "ExecuteTime": {
     "end_time": "2021-12-15T20:32:51.202745Z",
     "start_time": "2021-12-15T20:32:50.468099Z"
    }
   },
   "outputs": [
    {
     "data": {
      "image/png": "[encoded data removed]",
      "text/plain": [
       "<Figure size 648x324 with 1 Axes>"
      ]
     },
     "metadata": {
      "needs_background": "light"
     },
     "output_type": "display_data"
    }
   ],
   "source": [
    "rmse_train, rmse_valid = [], []\n",
    "for alpha in ALPHAS:    \n",
    "    results = cross_validate(make_model(degree=15, penalty='L2', alpha=alpha), \n",
    "                             X, y, cv=5,\n",
    "                             return_train_score=True,\n",
    "                             scoring='neg_root_mean_squared_error')\n",
    "    rmse_train.append(-np.mean(results['train_score']))\n",
    "    rmse_valid.append(-np.mean(results['test_score']))\n",
    "    \n",
    "plot_fitting_graph(ALPHAS, rmse_train, rmse_valid, \n",
    "                   xlabel='Regularization strength (alpha)', ylabel='Error (RMSE)', \n",
    "                   title='Ridge polynomial regression (L2): degree=15')"
   ]
  },
  {
   "cell_type": "markdown",
   "metadata": {
    "ExecuteTime": {
     "end_time": "2020-11-09T13:47:39.048589Z",
     "start_time": "2020-11-09T13:47:39.044912Z"
    }
   },
   "source": [
    "### Summary"
   ]
  },
  {
   "cell_type": "markdown",
   "metadata": {
    "ExecuteTime": {
     "end_time": "2020-11-09T13:49:03.993455Z",
     "start_time": "2020-11-09T13:49:03.987472Z"
    }
   },
   "source": [
    "1. We can control the regularization strength by changing the hyperparameter `alpha`.\n",
    "2. Regularized version of the model performs pretty well. Even in case the original original (unregularized) model is heavily overfitting due to excessive complexity."
   ]
  },
  {
   "cell_type": "markdown",
   "metadata": {
    "ExecuteTime": {
     "end_time": "2020-11-09T12:14:17.962945Z",
     "start_time": "2020-11-09T12:14:17.959952Z"
    }
   },
   "source": [
    "## Part 3: Homework assignment (10 points)"
   ]
  },
  {
   "cell_type": "markdown",
   "metadata": {
    "ExecuteTime": {
     "end_time": "2021-12-10T12:27:23.202301Z",
     "start_time": "2021-12-10T12:27:23.185315Z"
    }
   },
   "source": [
    "### Excercise 1 - Overfiting and Underfitting (2 points)"
   ]
  },
  {
   "cell_type": "markdown",
   "metadata": {
    "ExecuteTime": {
     "end_time": "2021-12-10T07:35:07.485715Z",
     "start_time": "2021-12-10T07:35:07.461799Z"
    }
   },
   "source": [
    "Let's work with the diabetes dataset"
   ]
  },
  {
   "cell_type": "code",
   "execution_count": 20,
   "metadata": {
    "ExecuteTime": {
     "end_time": "2021-12-15T20:32:51.450770Z",
     "start_time": "2021-12-15T20:32:51.234725Z"
    }
   },
   "outputs": [
    {
     "name": "stdout",
     "output_type": "stream",
     "text": [
      ".. _diabetes_dataset:\n",
      "\n",
      "Diabetes dataset\n",
      "----------------\n",
      "\n",
      "Ten baseline variables, age, sex, body mass index, average blood\n",
      "pressure, and six blood serum measurements were obtained for each of n =\n",
      "442 diabetes patients, as well as the response of interest, a\n",
      "quantitative measure of disease progression one year after baseline.\n",
      "\n",
      "**Data Set Characteristics:**\n",
      "\n",
      "  :Number of Instances: 442\n",
      "\n",
      "  :Number of Attributes: First 10 columns are numeric predictive values\n",
      "\n",
      "  :Target: Column 11 is a quantitative measure of disease progression one year after baseline\n",
      "\n",
      "  :Attribute Information:\n",
      "      - age     age in years\n",
      "      - sex\n",
      "      - bmi     body mass index\n",
      "      - bp      average blood pressure\n",
      "      - s1      tc, total serum cholesterol\n",
      "      - s2      ldl, low-density lipoproteins\n",
      "      - s3      hdl, high-density lipoproteins\n",
      "      - s4      tch, total cholesterol / HDL\n",
      "      - s5      ltg, possibly log of serum triglycerides level\n",
      "      - s6      glu, blood sugar level\n",
      "\n",
      "Note: Each of these 10 feature variables have been mean centered and scaled by the standard deviation times `n_samples` (i.e. the sum of squares of each column totals 1).\n",
      "\n",
      "Source URL:\n",
      "https://www4.stat.ncsu.edu/~boos/var.select/diabetes.html\n",
      "\n",
      "For more information see:\n",
      "Bradley Efron, Trevor Hastie, Iain Johnstone and Robert Tibshirani (2004) \"Least Angle Regression,\" Annals of Statistics (with discussion), 407-499.\n",
      "(https://web.stanford.edu/~hastie/Papers/LARS/LeastAngle_2002.pdf)\n"
     ]
    }
   ],
   "source": [
    "from sklearn.datasets import load_diabetes\n",
    "data = load_diabetes()\n",
    "X_diabetes = pd.DataFrame(data['data'], columns=data['feature_names'])\n",
    "y_diabetes = pd.DataFrame(data['target'], columns=['target'])\n",
    "print(data['DESCR'])"
   ]
  },
  {
   "cell_type": "markdown",
   "metadata": {},
   "source": [
    "Apply model for diabetes dataset with polynomial feature engineering of different degrees. Plot the dependence of train and test error on polynomial degree. Highlight a degree with the best test error. Which degrees cause overfitting/underfitting? Why?"
   ]
  },
  {
   "cell_type": "code",
   "execution_count": 21,
   "metadata": {},
   "outputs": [],
   "source": [
    "X_train, X_valid, y_train, y_valid = train_test_split(X_diabetes, y_diabetes, test_size=0.3, random_state=SEED)"
   ]
  },
  {
   "cell_type": "code",
   "execution_count": 22,
   "metadata": {},
   "outputs": [
    {
     "data": {
      "image/png": "[encoded data removed]",
      "text/plain": [
       "<Figure size 648x324 with 1 Axes>"
      ]
     },
     "metadata": {
      "needs_background": "light"
     },
     "output_type": "display_data"
    }
   ],
   "source": [
    "rmse_train, rmse_valid = [], []\n",
    "degrees = range(1,15)\n",
    "\n",
    "for degree in degrees:\n",
    "    results = cross_validate(make_model(degree), \n",
    "                             X, y, cv=5,\n",
    "                             return_train_score=True,\n",
    "                             scoring='neg_root_mean_squared_error')\n",
    "    rmse_train.append(-np.mean(results['train_score']))\n",
    "    rmse_valid.append(-np.mean(results['test_score']))\n",
    "    \n",
    "plot_fitting_graph(degrees, rmse_train, rmse_valid, xlabel='Complexity (degree)', ylabel='Error (RMSE)',\n",
    "                   title='Least squares polynomial regression')"
   ]
  },
  {
   "cell_type": "markdown",
   "metadata": {
    "ExecuteTime": {
     "end_time": "2021-12-15T20:38:03.456910Z",
     "start_time": "2021-12-15T20:38:03.448915Z"
    }
   },
   "source": [
    "- При степени полинома меньше 5 наблюдается недообучение, так как при степени больше 5 значение обоих метрик уменьшается.\n",
    "- 5 степень самая оптимальная, при ней низкое значение RMSE на обоих выборках\n",
    "- При повышении степени происходит переобучение, добавленные полиномиальные признаки только мешают качественно предсказывать "
   ]
  },
  {
   "cell_type": "markdown",
   "metadata": {
    "ExecuteTime": {
     "end_time": "2021-12-10T12:46:46.756169Z",
     "start_time": "2021-12-10T12:44:13.217Z"
    }
   },
   "source": [
    "### Excercise 2 - Magnitude (3 points)"
   ]
  },
  {
   "cell_type": "markdown",
   "metadata": {},
   "source": [
    "As discussed earlier, regularization methods are expected to constraint the weights (model coefficients). \n",
    "\n",
    "Is it indeed happening? \n",
    "\n",
    "Please do a discovery on your own and find that out empirically (both for **L1** and **L2**). Let's use `degree=15` and `alpha` from `ALPHAS`."
   ]
  },
  {
   "cell_type": "code",
   "execution_count": 23,
   "metadata": {},
   "outputs": [
    {
     "data": {
      "text/plain": [
       "(442, 24)"
      ]
     },
     "execution_count": 23,
     "metadata": {},
     "output_type": "execute_result"
    }
   ],
   "source": [
    "poly = PolynomialFeatures(degree=15, include_bias=False)\n",
    "X_poly = poly.fit_transform(X_diabetes[['bmi']])\n",
    "X_diabetes_all = np.concatenate((X_diabetes.loc[:, X_diabetes.columns != 'bmi'].to_numpy(), X_poly), axis=1)\n",
    "X_diabetes_all.shape"
   ]
  },
  {
   "cell_type": "code",
   "execution_count": 24,
   "metadata": {},
   "outputs": [
    {
     "name": "stdout",
     "output_type": "stream",
     "text": [
      "Количество начальных признаков  10\n",
      "Количество добавленных полиномиальных признаков  14\n",
      "Общее количество признаков  24\n"
     ]
    }
   ],
   "source": [
    "print('Количество начальных признаков ', X_diabetes.shape[1])\n",
    "print('Количество добавленных полиномиальных признаков ', X_poly.shape[1]-1)\n",
    "print('Общее количество признаков ', X_diabetes_all.shape[1])"
   ]
  },
  {
   "cell_type": "markdown",
   "metadata": {},
   "source": [
    "#### L1"
   ]
  },
  {
   "cell_type": "code",
   "execution_count": 44,
   "metadata": {},
   "outputs": [
    {
     "name": "stderr",
     "output_type": "stream",
     "text": [
      "/var/folders/wl/27ymcjln6px3tcfww0c_jg5c0000gn/T/ipykernel_5709/2602106410.py:6: UserWarning: With alpha=0, this algorithm does not converge well. You are advised to use the LinearRegression estimator\n",
      "  model.fit(X_train, y_train)\n",
      "/Users/sonya/Library/Python/3.8/lib/python/site-packages/sklearn/linear_model/_coordinate_descent.py:647: UserWarning: Coordinate descent with no regularization may lead to unexpected results and is discouraged.\n",
      "  model = cd_fast.enet_coordinate_descent(\n",
      "/Users/sonya/Library/Python/3.8/lib/python/site-packages/sklearn/linear_model/_coordinate_descent.py:647: ConvergenceWarning: Objective did not converge. You might want to increase the number of iterations, check the scale of the features or consider increasing regularisation. Duality gap: 4.341e+05, tolerance: 1.900e+02 Linear regression models with null weight for the l1 regularization term are more efficiently fitted using one of the solvers implemented in sklearn.linear_model.Ridge/RidgeCV instead.\n",
      "  model = cd_fast.enet_coordinate_descent(\n"
     ]
    },
    {
     "data": {
      "image/png": "[encoded data removed]",
      "text/plain": [
       "<Figure size 648x324 with 1 Axes>"
      ]
     },
     "metadata": {
      "needs_background": "light"
     },
     "output_type": "display_data"
    }
   ],
   "source": [
    "X_train, X_valid, y_train, y_valid = train_test_split(X_diabetes_all, y_diabetes, test_size=0.3, random_state=SEED)\n",
    "rmse_train, rmse_valid, coef_lst = [], [], []\n",
    "\n",
    "for alpha in ALPHAS:\n",
    "    model = Lasso(alpha=alpha, random_state=SEED, max_iter=100000)\n",
    "    model.fit(X_train, y_train)\n",
    "    rmse_train.append(rmse(model.predict(X_train), y_train))\n",
    "    rmse_valid.append(rmse(model.predict(X_valid), y_valid))\n",
    "    coef_lst.append(model.coef_)\n",
    "    \n",
    "    \n",
    "plot_fitting_graph(ALPHAS, rmse_train, rmse_valid,\n",
    "                   xlabel='Regularization strength (alpha)', ylabel='Error (RMSE)',\n",
    "                   title='Lasso polynomial regression (L1): degree=15')"
   ]
  },
  {
   "cell_type": "markdown",
   "metadata": {},
   "source": [
    "*Алгоритм не сошелся до конца при alpha=0. Я думаю, в данном случае можно не добиваться полной сходимости*"
   ]
  },
  {
   "cell_type": "code",
   "execution_count": 26,
   "metadata": {},
   "outputs": [],
   "source": [
    "df = pd.DataFrame(coef_lst)\n",
    "df['alpha']=ALPHAS.round(4)\n",
    "df = df.set_index('alpha')\n",
    "weights = df.T\n",
    "weights.columns.name = 'alpha'\n",
    "weights.index.name = 'features'"
   ]
  },
  {
   "cell_type": "code",
   "execution_count": 27,
   "metadata": {},
   "outputs": [
    {
     "data": {
      "text/html": [
       "<div>\n",
       "<style scoped>\n",
       "    .dataframe tbody tr th:only-of-type {\n",
       "        vertical-align: middle;\n",
       "    }\n",
       "\n",
       "    .dataframe tbody tr th {\n",
       "        vertical-align: top;\n",
       "    }\n",
       "\n",
       "    .dataframe thead th {\n",
       "        text-align: right;\n",
       "    }\n",
       "</style>\n",
       "<table border=\"1\" class=\"dataframe\">\n",
       "  <thead>\n",
       "    <tr style=\"text-align: right;\">\n",
       "      <th>alpha</th>\n",
       "      <th>0.0000</th>\n",
       "      <th>0.0125</th>\n",
       "      <th>0.0250</th>\n",
       "      <th>0.0375</th>\n",
       "      <th>0.0500</th>\n",
       "      <th>0.0625</th>\n",
       "      <th>0.0750</th>\n",
       "      <th>0.0875</th>\n",
       "      <th>0.1000</th>\n",
       "      <th>0.1125</th>\n",
       "      <th>...</th>\n",
       "      <th>0.3875</th>\n",
       "      <th>0.4000</th>\n",
       "      <th>0.4125</th>\n",
       "      <th>0.4250</th>\n",
       "      <th>0.4375</th>\n",
       "      <th>0.4500</th>\n",
       "      <th>0.4625</th>\n",
       "      <th>0.4750</th>\n",
       "      <th>0.4875</th>\n",
       "      <th>0.5000</th>\n",
       "    </tr>\n",
       "  </thead>\n",
       "  <tbody>\n",
       "    <tr>\n",
       "      <th>count</th>\n",
       "      <td>2.400000e+01</td>\n",
       "      <td>24.000000</td>\n",
       "      <td>24.000000</td>\n",
       "      <td>24.000000</td>\n",
       "      <td>24.000000</td>\n",
       "      <td>24.000000</td>\n",
       "      <td>24.000000</td>\n",
       "      <td>24.000000</td>\n",
       "      <td>24.000000</td>\n",
       "      <td>24.000000</td>\n",
       "      <td>...</td>\n",
       "      <td>24.000000</td>\n",
       "      <td>24.000000</td>\n",
       "      <td>24.000000</td>\n",
       "      <td>24.000000</td>\n",
       "      <td>24.000000</td>\n",
       "      <td>24.000000</td>\n",
       "      <td>24.000000</td>\n",
       "      <td>24.000000</td>\n",
       "      <td>24.000000</td>\n",
       "      <td>24.000000</td>\n",
       "    </tr>\n",
       "    <tr>\n",
       "      <th>mean</th>\n",
       "      <td>-1.554057e+13</td>\n",
       "      <td>74.673888</td>\n",
       "      <td>39.208550</td>\n",
       "      <td>37.517044</td>\n",
       "      <td>35.824634</td>\n",
       "      <td>34.134446</td>\n",
       "      <td>32.571786</td>\n",
       "      <td>32.695289</td>\n",
       "      <td>32.943510</td>\n",
       "      <td>33.190204</td>\n",
       "      <td>...</td>\n",
       "      <td>38.955260</td>\n",
       "      <td>38.804793</td>\n",
       "      <td>38.654327</td>\n",
       "      <td>38.503861</td>\n",
       "      <td>38.353395</td>\n",
       "      <td>38.202939</td>\n",
       "      <td>38.052479</td>\n",
       "      <td>37.902009</td>\n",
       "      <td>37.751539</td>\n",
       "      <td>37.601069</td>\n",
       "    </tr>\n",
       "    <tr>\n",
       "      <th>std</th>\n",
       "      <td>8.009855e+13</td>\n",
       "      <td>240.941409</td>\n",
       "      <td>180.516495</td>\n",
       "      <td>177.082684</td>\n",
       "      <td>174.569018</td>\n",
       "      <td>173.015565</td>\n",
       "      <td>172.280947</td>\n",
       "      <td>170.220982</td>\n",
       "      <td>168.087389</td>\n",
       "      <td>166.009424</td>\n",
       "      <td>...</td>\n",
       "      <td>135.855170</td>\n",
       "      <td>134.969648</td>\n",
       "      <td>134.089125</td>\n",
       "      <td>133.213702</td>\n",
       "      <td>132.343479</td>\n",
       "      <td>131.478560</td>\n",
       "      <td>130.619049</td>\n",
       "      <td>129.765052</td>\n",
       "      <td>128.916681</td>\n",
       "      <td>128.074049</td>\n",
       "    </tr>\n",
       "    <tr>\n",
       "      <th>min</th>\n",
       "      <td>-3.905489e+14</td>\n",
       "      <td>-354.575546</td>\n",
       "      <td>-236.132237</td>\n",
       "      <td>-224.553311</td>\n",
       "      <td>-224.798758</td>\n",
       "      <td>-251.627695</td>\n",
       "      <td>-277.930969</td>\n",
       "      <td>-277.040828</td>\n",
       "      <td>-274.106072</td>\n",
       "      <td>-271.194012</td>\n",
       "      <td>...</td>\n",
       "      <td>-141.399660</td>\n",
       "      <td>-137.671790</td>\n",
       "      <td>-133.943921</td>\n",
       "      <td>-130.216052</td>\n",
       "      <td>-126.488169</td>\n",
       "      <td>-122.759857</td>\n",
       "      <td>-119.031611</td>\n",
       "      <td>-115.303554</td>\n",
       "      <td>-111.575497</td>\n",
       "      <td>-107.847440</td>\n",
       "    </tr>\n",
       "    <tr>\n",
       "      <th>25%</th>\n",
       "      <td>-5.773777e+07</td>\n",
       "      <td>0.000000</td>\n",
       "      <td>0.000000</td>\n",
       "      <td>0.000000</td>\n",
       "      <td>0.000000</td>\n",
       "      <td>0.000000</td>\n",
       "      <td>0.000000</td>\n",
       "      <td>0.000000</td>\n",
       "      <td>0.000000</td>\n",
       "      <td>0.000000</td>\n",
       "      <td>...</td>\n",
       "      <td>0.000000</td>\n",
       "      <td>0.000000</td>\n",
       "      <td>0.000000</td>\n",
       "      <td>0.000000</td>\n",
       "      <td>0.000000</td>\n",
       "      <td>0.000000</td>\n",
       "      <td>0.000000</td>\n",
       "      <td>0.000000</td>\n",
       "      <td>0.000000</td>\n",
       "      <td>0.000000</td>\n",
       "    </tr>\n",
       "    <tr>\n",
       "      <th>50%</th>\n",
       "      <td>6.216492e+01</td>\n",
       "      <td>0.000000</td>\n",
       "      <td>0.000000</td>\n",
       "      <td>0.000000</td>\n",
       "      <td>0.000000</td>\n",
       "      <td>0.000000</td>\n",
       "      <td>0.000000</td>\n",
       "      <td>0.000000</td>\n",
       "      <td>0.000000</td>\n",
       "      <td>0.000000</td>\n",
       "      <td>...</td>\n",
       "      <td>0.000000</td>\n",
       "      <td>0.000000</td>\n",
       "      <td>0.000000</td>\n",
       "      <td>0.000000</td>\n",
       "      <td>0.000000</td>\n",
       "      <td>0.000000</td>\n",
       "      <td>0.000000</td>\n",
       "      <td>0.000000</td>\n",
       "      <td>0.000000</td>\n",
       "      <td>0.000000</td>\n",
       "    </tr>\n",
       "    <tr>\n",
       "      <th>75%</th>\n",
       "      <td>3.899526e+05</td>\n",
       "      <td>57.931090</td>\n",
       "      <td>5.544230</td>\n",
       "      <td>3.815680</td>\n",
       "      <td>2.087083</td>\n",
       "      <td>0.358603</td>\n",
       "      <td>0.000000</td>\n",
       "      <td>0.000000</td>\n",
       "      <td>0.000000</td>\n",
       "      <td>0.000000</td>\n",
       "      <td>...</td>\n",
       "      <td>0.000000</td>\n",
       "      <td>0.000000</td>\n",
       "      <td>0.000000</td>\n",
       "      <td>0.000000</td>\n",
       "      <td>0.000000</td>\n",
       "      <td>0.000000</td>\n",
       "      <td>0.000000</td>\n",
       "      <td>0.000000</td>\n",
       "      <td>0.000000</td>\n",
       "      <td>0.000000</td>\n",
       "    </tr>\n",
       "    <tr>\n",
       "      <th>max</th>\n",
       "      <td>2.526312e+13</td>\n",
       "      <td>766.232189</td>\n",
       "      <td>561.010736</td>\n",
       "      <td>560.925250</td>\n",
       "      <td>560.839081</td>\n",
       "      <td>560.754587</td>\n",
       "      <td>560.542062</td>\n",
       "      <td>559.748811</td>\n",
       "      <td>558.962961</td>\n",
       "      <td>558.163871</td>\n",
       "      <td>...</td>\n",
       "      <td>544.153919</td>\n",
       "      <td>542.333070</td>\n",
       "      <td>540.512220</td>\n",
       "      <td>538.691370</td>\n",
       "      <td>536.870534</td>\n",
       "      <td>535.050124</td>\n",
       "      <td>533.229690</td>\n",
       "      <td>531.409187</td>\n",
       "      <td>529.588684</td>\n",
       "      <td>527.768180</td>\n",
       "    </tr>\n",
       "  </tbody>\n",
       "</table>\n",
       "<p>8 rows × 41 columns</p>\n",
       "</div>"
      ],
      "text/plain": [
       "alpha        0.0000      0.0125      0.0250      0.0375      0.0500  \\\n",
       "count  2.400000e+01   24.000000   24.000000   24.000000   24.000000   \n",
       "mean  -1.554057e+13   74.673888   39.208550   37.517044   35.824634   \n",
       "std    8.009855e+13  240.941409  180.516495  177.082684  174.569018   \n",
       "min   -3.905489e+14 -354.575546 -236.132237 -224.553311 -224.798758   \n",
       "25%   -5.773777e+07    0.000000    0.000000    0.000000    0.000000   \n",
       "50%    6.216492e+01    0.000000    0.000000    0.000000    0.000000   \n",
       "75%    3.899526e+05   57.931090    5.544230    3.815680    2.087083   \n",
       "max    2.526312e+13  766.232189  561.010736  560.925250  560.839081   \n",
       "\n",
       "alpha      0.0625      0.0750      0.0875      0.1000      0.1125  ...  \\\n",
       "count   24.000000   24.000000   24.000000   24.000000   24.000000  ...   \n",
       "mean    34.134446   32.571786   32.695289   32.943510   33.190204  ...   \n",
       "std    173.015565  172.280947  170.220982  168.087389  166.009424  ...   \n",
       "min   -251.627695 -277.930969 -277.040828 -274.106072 -271.194012  ...   \n",
       "25%      0.000000    0.000000    0.000000    0.000000    0.000000  ...   \n",
       "50%      0.000000    0.000000    0.000000    0.000000    0.000000  ...   \n",
       "75%      0.358603    0.000000    0.000000    0.000000    0.000000  ...   \n",
       "max    560.754587  560.542062  559.748811  558.962961  558.163871  ...   \n",
       "\n",
       "alpha      0.3875      0.4000      0.4125      0.4250      0.4375      0.4500  \\\n",
       "count   24.000000   24.000000   24.000000   24.000000   24.000000   24.000000   \n",
       "mean    38.955260   38.804793   38.654327   38.503861   38.353395   38.202939   \n",
       "std    135.855170  134.969648  134.089125  133.213702  132.343479  131.478560   \n",
       "min   -141.399660 -137.671790 -133.943921 -130.216052 -126.488169 -122.759857   \n",
       "25%      0.000000    0.000000    0.000000    0.000000    0.000000    0.000000   \n",
       "50%      0.000000    0.000000    0.000000    0.000000    0.000000    0.000000   \n",
       "75%      0.000000    0.000000    0.000000    0.000000    0.000000    0.000000   \n",
       "max    544.153919  542.333070  540.512220  538.691370  536.870534  535.050124   \n",
       "\n",
       "alpha      0.4625      0.4750      0.4875      0.5000  \n",
       "count   24.000000   24.000000   24.000000   24.000000  \n",
       "mean    38.052479   37.902009   37.751539   37.601069  \n",
       "std    130.619049  129.765052  128.916681  128.074049  \n",
       "min   -119.031611 -115.303554 -111.575497 -107.847440  \n",
       "25%      0.000000    0.000000    0.000000    0.000000  \n",
       "50%      0.000000    0.000000    0.000000    0.000000  \n",
       "75%      0.000000    0.000000    0.000000    0.000000  \n",
       "max    533.229690  531.409187  529.588684  527.768180  \n",
       "\n",
       "[8 rows x 41 columns]"
      ]
     },
     "execution_count": 27,
     "metadata": {},
     "output_type": "execute_result"
    }
   ],
   "source": [
    "weights.describe()"
   ]
  },
  {
   "cell_type": "code",
   "execution_count": 28,
   "metadata": {},
   "outputs": [
    {
     "data": {
      "text/plain": [
       "-15540565571561.373"
      ]
     },
     "execution_count": 28,
     "metadata": {},
     "output_type": "execute_result"
    }
   ],
   "source": [
    "weights[0].mean()"
   ]
  },
  {
   "cell_type": "markdown",
   "metadata": {},
   "source": [
    "#### L2"
   ]
  },
  {
   "cell_type": "code",
   "execution_count": 29,
   "metadata": {},
   "outputs": [
    {
     "name": "stderr",
     "output_type": "stream",
     "text": [
      "/Users/sonya/Library/Python/3.8/lib/python/site-packages/sklearn/linear_model/_ridge.py:157: LinAlgWarning: Ill-conditioned matrix (rcond=5.83078e-36): result may not be accurate.\n",
      "  return linalg.solve(A, Xy, sym_pos=True, overwrite_a=True).T\n"
     ]
    },
    {
     "data": {
      "image/png": "[encoded data removed]",
      "text/plain": [
       "<Figure size 648x324 with 1 Axes>"
      ]
     },
     "metadata": {
      "needs_background": "light"
     },
     "output_type": "display_data"
    },
    {
     "data": {
      "image/png": "[encoded data removed]",
      "text/plain": [
       "<Figure size 648x324 with 1 Axes>"
      ]
     },
     "metadata": {
      "needs_background": "light"
     },
     "output_type": "display_data"
    }
   ],
   "source": [
    "rmse_train, rmse_valid, coef_lst_L2 = [], [], []\n",
    "\n",
    "for alpha in ALPHAS:\n",
    "    model = Ridge(alpha=alpha, random_state=SEED, max_iter=50000)\n",
    "    model.fit(X_train, y_train)\n",
    "    rmse_train.append(rmse(model.predict(X_train), y_train))\n",
    "    rmse_valid.append(rmse(model.predict(X_valid), y_valid))\n",
    "    coef_lst_L2.append(model.coef_)\n",
    "    \n",
    "    \n",
    "plot_fitting_graph(ALPHAS, rmse_train, rmse_valid,\n",
    "                   xlabel='Regularization strength (alpha)', ylabel='Error (RMSE)',\n",
    "                   title='Ridge polynomial regression (L2): degree=15')\n",
    "plot_fitting_graph(ALPHAS[1:], rmse_train[1:], rmse_valid[1:],\n",
    "                   xlabel='Regularization strength (alpha)', ylabel='Error (RMSE)',\n",
    "                   title='Ridge polynomial regression (L2): degree=15')"
   ]
  },
  {
   "cell_type": "code",
   "execution_count": 30,
   "metadata": {},
   "outputs": [],
   "source": [
    "df_L2 = pd.DataFrame(np.asarray(coef_lst_L2).reshape((41, 24)))\n",
    "df_L2['alpha']=ALPHAS.round(4)\n",
    "df_L2 = df_L2.set_index('alpha')\n",
    "weights_L2 = df_L2.T\n",
    "weights_L2.columns.name = 'alpha'\n",
    "weights_L2.index.name = 'features'"
   ]
  },
  {
   "cell_type": "code",
   "execution_count": 31,
   "metadata": {},
   "outputs": [
    {
     "data": {
      "text/html": [
       "<div>\n",
       "<style scoped>\n",
       "    .dataframe tbody tr th:only-of-type {\n",
       "        vertical-align: middle;\n",
       "    }\n",
       "\n",
       "    .dataframe tbody tr th {\n",
       "        vertical-align: top;\n",
       "    }\n",
       "\n",
       "    .dataframe thead th {\n",
       "        text-align: right;\n",
       "    }\n",
       "</style>\n",
       "<table border=\"1\" class=\"dataframe\">\n",
       "  <thead>\n",
       "    <tr style=\"text-align: right;\">\n",
       "      <th>alpha</th>\n",
       "      <th>0.0000</th>\n",
       "      <th>0.0125</th>\n",
       "      <th>0.0250</th>\n",
       "      <th>0.0375</th>\n",
       "      <th>0.0500</th>\n",
       "      <th>0.0625</th>\n",
       "      <th>0.0750</th>\n",
       "      <th>0.0875</th>\n",
       "      <th>0.1000</th>\n",
       "      <th>0.1125</th>\n",
       "      <th>...</th>\n",
       "      <th>0.3875</th>\n",
       "      <th>0.4000</th>\n",
       "      <th>0.4125</th>\n",
       "      <th>0.4250</th>\n",
       "      <th>0.4375</th>\n",
       "      <th>0.4500</th>\n",
       "      <th>0.4625</th>\n",
       "      <th>0.4750</th>\n",
       "      <th>0.4875</th>\n",
       "      <th>0.5000</th>\n",
       "    </tr>\n",
       "  </thead>\n",
       "  <tbody>\n",
       "    <tr>\n",
       "      <th>count</th>\n",
       "      <td>2.400000e+01</td>\n",
       "      <td>24.000000</td>\n",
       "      <td>2.400000e+01</td>\n",
       "      <td>2.400000e+01</td>\n",
       "      <td>2.400000e+01</td>\n",
       "      <td>2.400000e+01</td>\n",
       "      <td>2.400000e+01</td>\n",
       "      <td>2.400000e+01</td>\n",
       "      <td>2.400000e+01</td>\n",
       "      <td>2.400000e+01</td>\n",
       "      <td>...</td>\n",
       "      <td>2.400000e+01</td>\n",
       "      <td>2.400000e+01</td>\n",
       "      <td>2.400000e+01</td>\n",
       "      <td>2.400000e+01</td>\n",
       "      <td>2.400000e+01</td>\n",
       "      <td>2.400000e+01</td>\n",
       "      <td>2.400000e+01</td>\n",
       "      <td>2.400000e+01</td>\n",
       "      <td>2.400000e+01</td>\n",
       "      <td>2.400000e+01</td>\n",
       "    </tr>\n",
       "    <tr>\n",
       "      <th>mean</th>\n",
       "      <td>-2.923966e+17</td>\n",
       "      <td>60.721530</td>\n",
       "      <td>4.955497e+01</td>\n",
       "      <td>4.517266e+01</td>\n",
       "      <td>4.281626e+01</td>\n",
       "      <td>4.133768e+01</td>\n",
       "      <td>4.031839e+01</td>\n",
       "      <td>3.956889e+01</td>\n",
       "      <td>3.899082e+01</td>\n",
       "      <td>3.852806e+01</td>\n",
       "      <td>...</td>\n",
       "      <td>3.476480e+01</td>\n",
       "      <td>3.465856e+01</td>\n",
       "      <td>3.455348e+01</td>\n",
       "      <td>3.444944e+01</td>\n",
       "      <td>3.434636e+01</td>\n",
       "      <td>3.424414e+01</td>\n",
       "      <td>3.414271e+01</td>\n",
       "      <td>3.404200e+01</td>\n",
       "      <td>3.394198e+01</td>\n",
       "      <td>3.384258e+01</td>\n",
       "    </tr>\n",
       "    <tr>\n",
       "      <th>std</th>\n",
       "      <td>2.470218e+18</td>\n",
       "      <td>203.890192</td>\n",
       "      <td>1.821799e+02</td>\n",
       "      <td>1.748539e+02</td>\n",
       "      <td>1.706296e+02</td>\n",
       "      <td>1.674802e+02</td>\n",
       "      <td>1.648222e+02</td>\n",
       "      <td>1.624378e+02</td>\n",
       "      <td>1.602298e+02</td>\n",
       "      <td>1.581494e+02</td>\n",
       "      <td>...</td>\n",
       "      <td>1.261741e+02</td>\n",
       "      <td>1.251008e+02</td>\n",
       "      <td>1.240502e+02</td>\n",
       "      <td>1.230216e+02</td>\n",
       "      <td>1.220142e+02</td>\n",
       "      <td>1.210273e+02</td>\n",
       "      <td>1.200601e+02</td>\n",
       "      <td>1.191121e+02</td>\n",
       "      <td>1.181826e+02</td>\n",
       "      <td>1.172709e+02</td>\n",
       "    </tr>\n",
       "    <tr>\n",
       "      <th>min</th>\n",
       "      <td>-1.108772e+19</td>\n",
       "      <td>-357.673708</td>\n",
       "      <td>-2.455011e+02</td>\n",
       "      <td>-2.395589e+02</td>\n",
       "      <td>-2.339219e+02</td>\n",
       "      <td>-2.285402e+02</td>\n",
       "      <td>-2.233849e+02</td>\n",
       "      <td>-2.184359e+02</td>\n",
       "      <td>-2.136777e+02</td>\n",
       "      <td>-2.126197e+02</td>\n",
       "      <td>...</td>\n",
       "      <td>-1.913879e+02</td>\n",
       "      <td>-1.902689e+02</td>\n",
       "      <td>-1.891601e+02</td>\n",
       "      <td>-1.880620e+02</td>\n",
       "      <td>-1.869746e+02</td>\n",
       "      <td>-1.858984e+02</td>\n",
       "      <td>-1.848335e+02</td>\n",
       "      <td>-1.837800e+02</td>\n",
       "      <td>-1.827379e+02</td>\n",
       "      <td>-1.817073e+02</td>\n",
       "    </tr>\n",
       "    <tr>\n",
       "      <th>25%</th>\n",
       "      <td>-2.448164e+08</td>\n",
       "      <td>0.000001</td>\n",
       "      <td>7.976117e-07</td>\n",
       "      <td>8.751423e-08</td>\n",
       "      <td>6.769114e-08</td>\n",
       "      <td>5.557962e-08</td>\n",
       "      <td>4.739766e-08</td>\n",
       "      <td>4.149018e-08</td>\n",
       "      <td>3.701783e-08</td>\n",
       "      <td>3.350941e-08</td>\n",
       "      <td>...</td>\n",
       "      <td>1.248044e-08</td>\n",
       "      <td>1.218066e-08</td>\n",
       "      <td>1.189722e-08</td>\n",
       "      <td>1.162874e-08</td>\n",
       "      <td>1.137401e-08</td>\n",
       "      <td>1.113191e-08</td>\n",
       "      <td>1.090149e-08</td>\n",
       "      <td>1.068185e-08</td>\n",
       "      <td>1.047222e-08</td>\n",
       "      <td>1.027187e-08</td>\n",
       "    </tr>\n",
       "    <tr>\n",
       "      <th>50%</th>\n",
       "      <td>1.530444e+02</td>\n",
       "      <td>0.084431</td>\n",
       "      <td>4.642284e-02</td>\n",
       "      <td>4.658768e-03</td>\n",
       "      <td>3.639505e-03</td>\n",
       "      <td>3.014353e-03</td>\n",
       "      <td>2.590717e-03</td>\n",
       "      <td>2.284001e-03</td>\n",
       "      <td>2.051189e-03</td>\n",
       "      <td>1.868092e-03</td>\n",
       "      <td>...</td>\n",
       "      <td>7.501417e-04</td>\n",
       "      <td>7.336118e-04</td>\n",
       "      <td>7.179504e-04</td>\n",
       "      <td>7.030850e-04</td>\n",
       "      <td>6.889515e-04</td>\n",
       "      <td>6.754925e-04</td>\n",
       "      <td>6.626568e-04</td>\n",
       "      <td>6.503983e-04</td>\n",
       "      <td>6.386757e-04</td>\n",
       "      <td>6.274514e-04</td>\n",
       "    </tr>\n",
       "    <tr>\n",
       "      <th>75%</th>\n",
       "      <td>9.983293e+03</td>\n",
       "      <td>63.131476</td>\n",
       "      <td>4.395947e+01</td>\n",
       "      <td>4.494697e+01</td>\n",
       "      <td>4.601228e+01</td>\n",
       "      <td>4.706127e+01</td>\n",
       "      <td>4.806763e+01</td>\n",
       "      <td>4.902324e+01</td>\n",
       "      <td>4.893435e+01</td>\n",
       "      <td>4.764008e+01</td>\n",
       "      <td>...</td>\n",
       "      <td>3.338176e+01</td>\n",
       "      <td>3.295854e+01</td>\n",
       "      <td>3.255592e+01</td>\n",
       "      <td>3.217214e+01</td>\n",
       "      <td>3.180566e+01</td>\n",
       "      <td>3.145508e+01</td>\n",
       "      <td>3.111918e+01</td>\n",
       "      <td>3.079685e+01</td>\n",
       "      <td>3.048709e+01</td>\n",
       "      <td>3.018902e+01</td>\n",
       "    </tr>\n",
       "    <tr>\n",
       "      <th>max</th>\n",
       "      <td>4.403298e+18</td>\n",
       "      <td>533.764036</td>\n",
       "      <td>5.358641e+02</td>\n",
       "      <td>5.321717e+02</td>\n",
       "      <td>5.269389e+02</td>\n",
       "      <td>5.211689e+02</td>\n",
       "      <td>5.152166e+02</td>\n",
       "      <td>5.092361e+02</td>\n",
       "      <td>5.033024e+02</td>\n",
       "      <td>4.974545e+02</td>\n",
       "      <td>...</td>\n",
       "      <td>3.969797e+02</td>\n",
       "      <td>3.934725e+02</td>\n",
       "      <td>3.900357e+02</td>\n",
       "      <td>3.866670e+02</td>\n",
       "      <td>3.833645e+02</td>\n",
       "      <td>3.801259e+02</td>\n",
       "      <td>3.769494e+02</td>\n",
       "      <td>3.738332e+02</td>\n",
       "      <td>3.707754e+02</td>\n",
       "      <td>3.677743e+02</td>\n",
       "    </tr>\n",
       "  </tbody>\n",
       "</table>\n",
       "<p>8 rows × 41 columns</p>\n",
       "</div>"
      ],
      "text/plain": [
       "alpha        0.0000      0.0125        0.0250        0.0375        0.0500  \\\n",
       "count  2.400000e+01   24.000000  2.400000e+01  2.400000e+01  2.400000e+01   \n",
       "mean  -2.923966e+17   60.721530  4.955497e+01  4.517266e+01  4.281626e+01   \n",
       "std    2.470218e+18  203.890192  1.821799e+02  1.748539e+02  1.706296e+02   \n",
       "min   -1.108772e+19 -357.673708 -2.455011e+02 -2.395589e+02 -2.339219e+02   \n",
       "25%   -2.448164e+08    0.000001  7.976117e-07  8.751423e-08  6.769114e-08   \n",
       "50%    1.530444e+02    0.084431  4.642284e-02  4.658768e-03  3.639505e-03   \n",
       "75%    9.983293e+03   63.131476  4.395947e+01  4.494697e+01  4.601228e+01   \n",
       "max    4.403298e+18  533.764036  5.358641e+02  5.321717e+02  5.269389e+02   \n",
       "\n",
       "alpha        0.0625        0.0750        0.0875        0.1000        0.1125  \\\n",
       "count  2.400000e+01  2.400000e+01  2.400000e+01  2.400000e+01  2.400000e+01   \n",
       "mean   4.133768e+01  4.031839e+01  3.956889e+01  3.899082e+01  3.852806e+01   \n",
       "std    1.674802e+02  1.648222e+02  1.624378e+02  1.602298e+02  1.581494e+02   \n",
       "min   -2.285402e+02 -2.233849e+02 -2.184359e+02 -2.136777e+02 -2.126197e+02   \n",
       "25%    5.557962e-08  4.739766e-08  4.149018e-08  3.701783e-08  3.350941e-08   \n",
       "50%    3.014353e-03  2.590717e-03  2.284001e-03  2.051189e-03  1.868092e-03   \n",
       "75%    4.706127e+01  4.806763e+01  4.902324e+01  4.893435e+01  4.764008e+01   \n",
       "max    5.211689e+02  5.152166e+02  5.092361e+02  5.033024e+02  4.974545e+02   \n",
       "\n",
       "alpha  ...        0.3875        0.4000        0.4125        0.4250  \\\n",
       "count  ...  2.400000e+01  2.400000e+01  2.400000e+01  2.400000e+01   \n",
       "mean   ...  3.476480e+01  3.465856e+01  3.455348e+01  3.444944e+01   \n",
       "std    ...  1.261741e+02  1.251008e+02  1.240502e+02  1.230216e+02   \n",
       "min    ... -1.913879e+02 -1.902689e+02 -1.891601e+02 -1.880620e+02   \n",
       "25%    ...  1.248044e-08  1.218066e-08  1.189722e-08  1.162874e-08   \n",
       "50%    ...  7.501417e-04  7.336118e-04  7.179504e-04  7.030850e-04   \n",
       "75%    ...  3.338176e+01  3.295854e+01  3.255592e+01  3.217214e+01   \n",
       "max    ...  3.969797e+02  3.934725e+02  3.900357e+02  3.866670e+02   \n",
       "\n",
       "alpha        0.4375        0.4500        0.4625        0.4750        0.4875  \\\n",
       "count  2.400000e+01  2.400000e+01  2.400000e+01  2.400000e+01  2.400000e+01   \n",
       "mean   3.434636e+01  3.424414e+01  3.414271e+01  3.404200e+01  3.394198e+01   \n",
       "std    1.220142e+02  1.210273e+02  1.200601e+02  1.191121e+02  1.181826e+02   \n",
       "min   -1.869746e+02 -1.858984e+02 -1.848335e+02 -1.837800e+02 -1.827379e+02   \n",
       "25%    1.137401e-08  1.113191e-08  1.090149e-08  1.068185e-08  1.047222e-08   \n",
       "50%    6.889515e-04  6.754925e-04  6.626568e-04  6.503983e-04  6.386757e-04   \n",
       "75%    3.180566e+01  3.145508e+01  3.111918e+01  3.079685e+01  3.048709e+01   \n",
       "max    3.833645e+02  3.801259e+02  3.769494e+02  3.738332e+02  3.707754e+02   \n",
       "\n",
       "alpha        0.5000  \n",
       "count  2.400000e+01  \n",
       "mean   3.384258e+01  \n",
       "std    1.172709e+02  \n",
       "min   -1.817073e+02  \n",
       "25%    1.027187e-08  \n",
       "50%    6.274514e-04  \n",
       "75%    3.018902e+01  \n",
       "max    3.677743e+02  \n",
       "\n",
       "[8 rows x 41 columns]"
      ]
     },
     "execution_count": 31,
     "metadata": {},
     "output_type": "execute_result"
    }
   ],
   "source": [
    "weights_L2.describe()"
   ]
  },
  {
   "cell_type": "markdown",
   "metadata": {},
   "source": [
    "#### Summary"
   ]
  },
  {
   "cell_type": "code",
   "execution_count": 32,
   "metadata": {},
   "outputs": [
    {
     "data": {
      "text/plain": [
       "-15540565571561.373"
      ]
     },
     "execution_count": 32,
     "metadata": {},
     "output_type": "execute_result"
    }
   ],
   "source": [
    "weights[0].mean()"
   ]
  },
  {
   "cell_type": "code",
   "execution_count": 33,
   "metadata": {},
   "outputs": [
    {
     "data": {
      "text/plain": [
       "-2.923966277074701e+17"
      ]
     },
     "execution_count": 33,
     "metadata": {},
     "output_type": "execute_result"
    }
   ],
   "source": [
    "weights_L2[0].mean()"
   ]
  },
  {
   "cell_type": "code",
   "execution_count": 34,
   "metadata": {},
   "outputs": [
    {
     "data": {
      "image/png": "[encoded data removed]",
      "text/plain": [
       "<Figure size 648x324 with 1 Axes>"
      ]
     },
     "metadata": {
      "needs_background": "light"
     },
     "output_type": "display_data"
    }
   ],
   "source": [
    "plt.figure(figsize=(9, 4.5))\n",
    "plot_scatter(weights.columns[1:],weights.iloc[:,1:].mean(), label='Lasso')\n",
    "plot_scatter(weights.columns[1:],weights_L2.iloc[:,1:].mean(), label='Ridge')\n",
    "plt.ylabel('mean of weights')\n",
    "plt.xlabel('alpha')\n",
    "plt.grid(True)\n",
    "plt.legend(loc='best')\n",
    "plt.xticks(weights.columns[1:], rotation='vertical');"
   ]
  },
  {
   "cell_type": "markdown",
   "metadata": {
    "ExecuteTime": {
     "end_time": "2021-12-10T13:40:56.063816Z",
     "start_time": "2021-12-10T13:40:56.057832Z"
    }
   },
   "source": [
    "- Без регуляризации веса получаются очень большими\n",
    "- С любой регуляризацией значение параметров на порядки меньше, чем без нее\n",
    "- С увеличением коэффициента регуляризации в случае L2 среднее по весам монотонно уменьшается, а в случае L1 при некоторых значениях коэффицента может начать возрастать. Такое поведение связано с тем, что в L2 считается квадрат от весов, а в L1 модуль   "
   ]
  },
  {
   "cell_type": "markdown",
   "metadata": {
    "ExecuteTime": {
     "end_time": "2021-12-10T12:46:46.756169Z",
     "start_time": "2021-12-10T12:44:13.217Z"
    }
   },
   "source": [
    "### Excercise 3 - Sparsity (3 points)"
   ]
  },
  {
   "cell_type": "markdown",
   "metadata": {},
   "source": [
    "Lasso can also be used for **feature selection** since L1 is [more likely to produce zero coefficients](https://explained.ai/regularization/).\n",
    "\n",
    "Is it indeed happening? \n",
    "\n",
    "Please do a discovery on your own and find that out empirically (both for **L1** and **L2**). Let's use `degree=15` and `alpha` from `ALPHAS`."
   ]
  },
  {
   "cell_type": "markdown",
   "metadata": {},
   "source": [
    "Воспользуемся весами из предыдущей задачи. Их значения для L1"
   ]
  },
  {
   "cell_type": "code",
   "execution_count": 35,
   "metadata": {},
   "outputs": [
    {
     "data": {
      "text/html": [
       "<div>\n",
       "<style scoped>\n",
       "    .dataframe tbody tr th:only-of-type {\n",
       "        vertical-align: middle;\n",
       "    }\n",
       "\n",
       "    .dataframe tbody tr th {\n",
       "        vertical-align: top;\n",
       "    }\n",
       "\n",
       "    .dataframe thead th {\n",
       "        text-align: right;\n",
       "    }\n",
       "</style>\n",
       "<table border=\"1\" class=\"dataframe\">\n",
       "  <thead>\n",
       "    <tr style=\"text-align: right;\">\n",
       "      <th>alpha</th>\n",
       "      <th>0.0000</th>\n",
       "      <th>0.0125</th>\n",
       "      <th>0.0250</th>\n",
       "      <th>0.0375</th>\n",
       "      <th>0.0500</th>\n",
       "      <th>0.0625</th>\n",
       "      <th>0.0750</th>\n",
       "      <th>0.0875</th>\n",
       "      <th>0.1000</th>\n",
       "      <th>0.1125</th>\n",
       "      <th>...</th>\n",
       "      <th>0.3875</th>\n",
       "      <th>0.4000</th>\n",
       "      <th>0.4125</th>\n",
       "      <th>0.4250</th>\n",
       "      <th>0.4375</th>\n",
       "      <th>0.4500</th>\n",
       "      <th>0.4625</th>\n",
       "      <th>0.4750</th>\n",
       "      <th>0.4875</th>\n",
       "      <th>0.5000</th>\n",
       "    </tr>\n",
       "    <tr>\n",
       "      <th>features</th>\n",
       "      <th></th>\n",
       "      <th></th>\n",
       "      <th></th>\n",
       "      <th></th>\n",
       "      <th></th>\n",
       "      <th></th>\n",
       "      <th></th>\n",
       "      <th></th>\n",
       "      <th></th>\n",
       "      <th></th>\n",
       "      <th></th>\n",
       "      <th></th>\n",
       "      <th></th>\n",
       "      <th></th>\n",
       "      <th></th>\n",
       "      <th></th>\n",
       "      <th></th>\n",
       "      <th></th>\n",
       "      <th></th>\n",
       "      <th></th>\n",
       "      <th></th>\n",
       "    </tr>\n",
       "  </thead>\n",
       "  <tbody>\n",
       "    <tr>\n",
       "      <th>0</th>\n",
       "      <td>6.324077e+01</td>\n",
       "      <td>39.873049</td>\n",
       "      <td>22.176920</td>\n",
       "      <td>15.262722</td>\n",
       "      <td>8.348332</td>\n",
       "      <td>1.434413</td>\n",
       "      <td>0.000000</td>\n",
       "      <td>0.000000</td>\n",
       "      <td>0.000000</td>\n",
       "      <td>0.000000</td>\n",
       "      <td>...</td>\n",
       "      <td>0.000000</td>\n",
       "      <td>0.000000</td>\n",
       "      <td>0.000000</td>\n",
       "      <td>0.000000</td>\n",
       "      <td>0.000000</td>\n",
       "      <td>0.000000</td>\n",
       "      <td>0.000000</td>\n",
       "      <td>0.000000</td>\n",
       "      <td>0.000000</td>\n",
       "      <td>0.000000</td>\n",
       "    </tr>\n",
       "    <tr>\n",
       "      <th>1</th>\n",
       "      <td>-2.497495e+02</td>\n",
       "      <td>-246.690536</td>\n",
       "      <td>-236.132237</td>\n",
       "      <td>-224.553311</td>\n",
       "      <td>-212.974444</td>\n",
       "      <td>-201.395437</td>\n",
       "      <td>-190.438808</td>\n",
       "      <td>-181.807308</td>\n",
       "      <td>-173.267738</td>\n",
       "      <td>-164.748995</td>\n",
       "      <td>...</td>\n",
       "      <td>-0.000000</td>\n",
       "      <td>-0.000000</td>\n",
       "      <td>-0.000000</td>\n",
       "      <td>-0.000000</td>\n",
       "      <td>-0.000000</td>\n",
       "      <td>-0.000000</td>\n",
       "      <td>-0.000000</td>\n",
       "      <td>-0.000000</td>\n",
       "      <td>-0.000000</td>\n",
       "      <td>-0.000000</td>\n",
       "    </tr>\n",
       "    <tr>\n",
       "      <th>2</th>\n",
       "      <td>3.743767e+02</td>\n",
       "      <td>379.716676</td>\n",
       "      <td>372.336877</td>\n",
       "      <td>366.732009</td>\n",
       "      <td>361.126742</td>\n",
       "      <td>355.522456</td>\n",
       "      <td>349.006470</td>\n",
       "      <td>344.120933</td>\n",
       "      <td>339.356532</td>\n",
       "      <td>334.593349</td>\n",
       "      <td>...</td>\n",
       "      <td>225.949569</td>\n",
       "      <td>222.307087</td>\n",
       "      <td>218.664606</td>\n",
       "      <td>215.022125</td>\n",
       "      <td>211.379635</td>\n",
       "      <td>207.736911</td>\n",
       "      <td>204.094241</td>\n",
       "      <td>200.451727</td>\n",
       "      <td>196.809213</td>\n",
       "      <td>193.166699</td>\n",
       "    </tr>\n",
       "    <tr>\n",
       "      <th>3</th>\n",
       "      <td>-7.409573e+02</td>\n",
       "      <td>-354.575546</td>\n",
       "      <td>-226.695172</td>\n",
       "      <td>-190.564624</td>\n",
       "      <td>-154.422027</td>\n",
       "      <td>-118.309021</td>\n",
       "      <td>-83.668140</td>\n",
       "      <td>-70.402239</td>\n",
       "      <td>-58.728859</td>\n",
       "      <td>-47.040794</td>\n",
       "      <td>...</td>\n",
       "      <td>-0.000000</td>\n",
       "      <td>-0.000000</td>\n",
       "      <td>-0.000000</td>\n",
       "      <td>-0.000000</td>\n",
       "      <td>-0.000000</td>\n",
       "      <td>-0.000000</td>\n",
       "      <td>-0.000000</td>\n",
       "      <td>-0.000000</td>\n",
       "      <td>-0.000000</td>\n",
       "      <td>-0.000000</td>\n",
       "    </tr>\n",
       "    <tr>\n",
       "      <th>4</th>\n",
       "      <td>4.247895e+02</td>\n",
       "      <td>93.643889</td>\n",
       "      <td>0.000000</td>\n",
       "      <td>-0.000000</td>\n",
       "      <td>-0.000000</td>\n",
       "      <td>-0.000000</td>\n",
       "      <td>-0.000000</td>\n",
       "      <td>-0.000000</td>\n",
       "      <td>-0.000000</td>\n",
       "      <td>-0.000000</td>\n",
       "      <td>...</td>\n",
       "      <td>-0.000000</td>\n",
       "      <td>-0.000000</td>\n",
       "      <td>-0.000000</td>\n",
       "      <td>-0.000000</td>\n",
       "      <td>-0.000000</td>\n",
       "      <td>-0.000000</td>\n",
       "      <td>-0.000000</td>\n",
       "      <td>-0.000000</td>\n",
       "      <td>-0.000000</td>\n",
       "      <td>-0.000000</td>\n",
       "    </tr>\n",
       "    <tr>\n",
       "      <th>5</th>\n",
       "      <td>3.458376e+01</td>\n",
       "      <td>-116.026745</td>\n",
       "      <td>-171.082203</td>\n",
       "      <td>-197.932980</td>\n",
       "      <td>-224.798758</td>\n",
       "      <td>-251.627695</td>\n",
       "      <td>-277.930969</td>\n",
       "      <td>-277.040828</td>\n",
       "      <td>-274.106072</td>\n",
       "      <td>-271.194012</td>\n",
       "      <td>...</td>\n",
       "      <td>-141.399660</td>\n",
       "      <td>-137.671790</td>\n",
       "      <td>-133.943921</td>\n",
       "      <td>-130.216052</td>\n",
       "      <td>-126.488169</td>\n",
       "      <td>-122.759857</td>\n",
       "      <td>-119.031611</td>\n",
       "      <td>-115.303554</td>\n",
       "      <td>-111.575497</td>\n",
       "      <td>-107.847440</td>\n",
       "    </tr>\n",
       "    <tr>\n",
       "      <th>6</th>\n",
       "      <td>2.369450e+02</td>\n",
       "      <td>202.371138</td>\n",
       "      <td>168.952167</td>\n",
       "      <td>127.019539</td>\n",
       "      <td>85.071065</td>\n",
       "      <td>43.161512</td>\n",
       "      <td>2.640245</td>\n",
       "      <td>0.000000</td>\n",
       "      <td>0.000000</td>\n",
       "      <td>0.000000</td>\n",
       "      <td>...</td>\n",
       "      <td>0.000000</td>\n",
       "      <td>0.000000</td>\n",
       "      <td>0.000000</td>\n",
       "      <td>0.000000</td>\n",
       "      <td>0.000000</td>\n",
       "      <td>0.000000</td>\n",
       "      <td>0.000000</td>\n",
       "      <td>0.000000</td>\n",
       "      <td>0.000000</td>\n",
       "      <td>0.000000</td>\n",
       "    </tr>\n",
       "    <tr>\n",
       "      <th>7</th>\n",
       "      <td>6.145066e+02</td>\n",
       "      <td>455.444945</td>\n",
       "      <td>407.026944</td>\n",
       "      <td>402.388173</td>\n",
       "      <td>397.747986</td>\n",
       "      <td>393.111276</td>\n",
       "      <td>387.879887</td>\n",
       "      <td>380.400712</td>\n",
       "      <td>372.843392</td>\n",
       "      <td>365.287297</td>\n",
       "      <td>...</td>\n",
       "      <td>306.222402</td>\n",
       "      <td>304.346676</td>\n",
       "      <td>302.470950</td>\n",
       "      <td>300.595224</td>\n",
       "      <td>298.719485</td>\n",
       "      <td>296.843349</td>\n",
       "      <td>294.967167</td>\n",
       "      <td>293.090849</td>\n",
       "      <td>291.214531</td>\n",
       "      <td>289.338214</td>\n",
       "    </tr>\n",
       "    <tr>\n",
       "      <th>8</th>\n",
       "      <td>6.108906e+01</td>\n",
       "      <td>46.026824</td>\n",
       "      <td>43.411163</td>\n",
       "      <td>41.132289</td>\n",
       "      <td>38.853250</td>\n",
       "      <td>36.574616</td>\n",
       "      <td>33.692111</td>\n",
       "      <td>29.666843</td>\n",
       "      <td>25.584017</td>\n",
       "      <td>21.504191</td>\n",
       "      <td>...</td>\n",
       "      <td>0.000000</td>\n",
       "      <td>0.000000</td>\n",
       "      <td>0.000000</td>\n",
       "      <td>0.000000</td>\n",
       "      <td>0.000000</td>\n",
       "      <td>0.000000</td>\n",
       "      <td>0.000000</td>\n",
       "      <td>0.000000</td>\n",
       "      <td>0.000000</td>\n",
       "      <td>0.000000</td>\n",
       "    </tr>\n",
       "    <tr>\n",
       "      <th>9</th>\n",
       "      <td>9.219087e+02</td>\n",
       "      <td>526.157428</td>\n",
       "      <td>561.010736</td>\n",
       "      <td>560.925250</td>\n",
       "      <td>560.839081</td>\n",
       "      <td>560.754587</td>\n",
       "      <td>560.542062</td>\n",
       "      <td>559.748811</td>\n",
       "      <td>558.962961</td>\n",
       "      <td>558.163871</td>\n",
       "      <td>...</td>\n",
       "      <td>544.153919</td>\n",
       "      <td>542.333070</td>\n",
       "      <td>540.512220</td>\n",
       "      <td>538.691370</td>\n",
       "      <td>536.870534</td>\n",
       "      <td>535.050124</td>\n",
       "      <td>533.229690</td>\n",
       "      <td>531.409187</td>\n",
       "      <td>529.588684</td>\n",
       "      <td>527.768180</td>\n",
       "    </tr>\n",
       "    <tr>\n",
       "      <th>10</th>\n",
       "      <td>-3.777711e+03</td>\n",
       "      <td>766.232189</td>\n",
       "      <td>0.000000</td>\n",
       "      <td>0.000000</td>\n",
       "      <td>0.000000</td>\n",
       "      <td>0.000000</td>\n",
       "      <td>0.000000</td>\n",
       "      <td>0.000000</td>\n",
       "      <td>0.000000</td>\n",
       "      <td>0.000000</td>\n",
       "      <td>...</td>\n",
       "      <td>0.000000</td>\n",
       "      <td>0.000000</td>\n",
       "      <td>0.000000</td>\n",
       "      <td>0.000000</td>\n",
       "      <td>0.000000</td>\n",
       "      <td>0.000000</td>\n",
       "      <td>0.000000</td>\n",
       "      <td>0.000000</td>\n",
       "      <td>0.000000</td>\n",
       "      <td>0.000000</td>\n",
       "    </tr>\n",
       "    <tr>\n",
       "      <th>11</th>\n",
       "      <td>-3.529150e+05</td>\n",
       "      <td>0.000000</td>\n",
       "      <td>0.000000</td>\n",
       "      <td>0.000000</td>\n",
       "      <td>0.000000</td>\n",
       "      <td>0.000000</td>\n",
       "      <td>0.000000</td>\n",
       "      <td>0.000000</td>\n",
       "      <td>0.000000</td>\n",
       "      <td>0.000000</td>\n",
       "      <td>...</td>\n",
       "      <td>0.000000</td>\n",
       "      <td>0.000000</td>\n",
       "      <td>0.000000</td>\n",
       "      <td>0.000000</td>\n",
       "      <td>0.000000</td>\n",
       "      <td>0.000000</td>\n",
       "      <td>0.000000</td>\n",
       "      <td>0.000000</td>\n",
       "      <td>0.000000</td>\n",
       "      <td>0.000000</td>\n",
       "    </tr>\n",
       "    <tr>\n",
       "      <th>12</th>\n",
       "      <td>1.557045e+06</td>\n",
       "      <td>0.000000</td>\n",
       "      <td>0.000000</td>\n",
       "      <td>0.000000</td>\n",
       "      <td>0.000000</td>\n",
       "      <td>0.000000</td>\n",
       "      <td>0.000000</td>\n",
       "      <td>0.000000</td>\n",
       "      <td>0.000000</td>\n",
       "      <td>0.000000</td>\n",
       "      <td>...</td>\n",
       "      <td>0.000000</td>\n",
       "      <td>0.000000</td>\n",
       "      <td>0.000000</td>\n",
       "      <td>0.000000</td>\n",
       "      <td>0.000000</td>\n",
       "      <td>0.000000</td>\n",
       "      <td>0.000000</td>\n",
       "      <td>0.000000</td>\n",
       "      <td>0.000000</td>\n",
       "      <td>0.000000</td>\n",
       "    </tr>\n",
       "    <tr>\n",
       "      <th>13</th>\n",
       "      <td>6.499479e+07</td>\n",
       "      <td>0.000000</td>\n",
       "      <td>0.000000</td>\n",
       "      <td>0.000000</td>\n",
       "      <td>0.000000</td>\n",
       "      <td>0.000000</td>\n",
       "      <td>0.000000</td>\n",
       "      <td>0.000000</td>\n",
       "      <td>0.000000</td>\n",
       "      <td>0.000000</td>\n",
       "      <td>...</td>\n",
       "      <td>0.000000</td>\n",
       "      <td>0.000000</td>\n",
       "      <td>0.000000</td>\n",
       "      <td>0.000000</td>\n",
       "      <td>0.000000</td>\n",
       "      <td>0.000000</td>\n",
       "      <td>0.000000</td>\n",
       "      <td>0.000000</td>\n",
       "      <td>0.000000</td>\n",
       "      <td>0.000000</td>\n",
       "    </tr>\n",
       "    <tr>\n",
       "      <th>14</th>\n",
       "      <td>-2.298923e+08</td>\n",
       "      <td>0.000000</td>\n",
       "      <td>0.000000</td>\n",
       "      <td>0.000000</td>\n",
       "      <td>0.000000</td>\n",
       "      <td>0.000000</td>\n",
       "      <td>0.000000</td>\n",
       "      <td>0.000000</td>\n",
       "      <td>0.000000</td>\n",
       "      <td>0.000000</td>\n",
       "      <td>...</td>\n",
       "      <td>0.000000</td>\n",
       "      <td>0.000000</td>\n",
       "      <td>0.000000</td>\n",
       "      <td>0.000000</td>\n",
       "      <td>0.000000</td>\n",
       "      <td>0.000000</td>\n",
       "      <td>0.000000</td>\n",
       "      <td>0.000000</td>\n",
       "      <td>0.000000</td>\n",
       "      <td>0.000000</td>\n",
       "    </tr>\n",
       "    <tr>\n",
       "      <th>15</th>\n",
       "      <td>-3.202565e+09</td>\n",
       "      <td>0.000000</td>\n",
       "      <td>0.000000</td>\n",
       "      <td>0.000000</td>\n",
       "      <td>0.000000</td>\n",
       "      <td>0.000000</td>\n",
       "      <td>0.000000</td>\n",
       "      <td>0.000000</td>\n",
       "      <td>0.000000</td>\n",
       "      <td>0.000000</td>\n",
       "      <td>...</td>\n",
       "      <td>0.000000</td>\n",
       "      <td>0.000000</td>\n",
       "      <td>0.000000</td>\n",
       "      <td>0.000000</td>\n",
       "      <td>0.000000</td>\n",
       "      <td>0.000000</td>\n",
       "      <td>0.000000</td>\n",
       "      <td>0.000000</td>\n",
       "      <td>0.000000</td>\n",
       "      <td>0.000000</td>\n",
       "    </tr>\n",
       "    <tr>\n",
       "      <th>16</th>\n",
       "      <td>1.357951e+10</td>\n",
       "      <td>0.000000</td>\n",
       "      <td>0.000000</td>\n",
       "      <td>0.000000</td>\n",
       "      <td>0.000000</td>\n",
       "      <td>0.000000</td>\n",
       "      <td>0.000000</td>\n",
       "      <td>0.000000</td>\n",
       "      <td>0.000000</td>\n",
       "      <td>0.000000</td>\n",
       "      <td>...</td>\n",
       "      <td>0.000000</td>\n",
       "      <td>0.000000</td>\n",
       "      <td>0.000000</td>\n",
       "      <td>0.000000</td>\n",
       "      <td>0.000000</td>\n",
       "      <td>0.000000</td>\n",
       "      <td>0.000000</td>\n",
       "      <td>0.000000</td>\n",
       "      <td>0.000000</td>\n",
       "      <td>0.000000</td>\n",
       "    </tr>\n",
       "    <tr>\n",
       "      <th>17</th>\n",
       "      <td>-5.164027e+10</td>\n",
       "      <td>0.000000</td>\n",
       "      <td>0.000000</td>\n",
       "      <td>0.000000</td>\n",
       "      <td>0.000000</td>\n",
       "      <td>0.000000</td>\n",
       "      <td>0.000000</td>\n",
       "      <td>0.000000</td>\n",
       "      <td>0.000000</td>\n",
       "      <td>0.000000</td>\n",
       "      <td>...</td>\n",
       "      <td>0.000000</td>\n",
       "      <td>0.000000</td>\n",
       "      <td>0.000000</td>\n",
       "      <td>0.000000</td>\n",
       "      <td>0.000000</td>\n",
       "      <td>0.000000</td>\n",
       "      <td>0.000000</td>\n",
       "      <td>0.000000</td>\n",
       "      <td>0.000000</td>\n",
       "      <td>0.000000</td>\n",
       "    </tr>\n",
       "    <tr>\n",
       "      <th>18</th>\n",
       "      <td>3.876092e+11</td>\n",
       "      <td>0.000000</td>\n",
       "      <td>0.000000</td>\n",
       "      <td>0.000000</td>\n",
       "      <td>0.000000</td>\n",
       "      <td>0.000000</td>\n",
       "      <td>0.000000</td>\n",
       "      <td>0.000000</td>\n",
       "      <td>0.000000</td>\n",
       "      <td>0.000000</td>\n",
       "      <td>...</td>\n",
       "      <td>0.000000</td>\n",
       "      <td>0.000000</td>\n",
       "      <td>0.000000</td>\n",
       "      <td>0.000000</td>\n",
       "      <td>0.000000</td>\n",
       "      <td>0.000000</td>\n",
       "      <td>0.000000</td>\n",
       "      <td>0.000000</td>\n",
       "      <td>0.000000</td>\n",
       "      <td>0.000000</td>\n",
       "    </tr>\n",
       "    <tr>\n",
       "      <th>19</th>\n",
       "      <td>-5.912287e+11</td>\n",
       "      <td>0.000000</td>\n",
       "      <td>0.000000</td>\n",
       "      <td>0.000000</td>\n",
       "      <td>0.000000</td>\n",
       "      <td>0.000000</td>\n",
       "      <td>0.000000</td>\n",
       "      <td>0.000000</td>\n",
       "      <td>0.000000</td>\n",
       "      <td>0.000000</td>\n",
       "      <td>...</td>\n",
       "      <td>0.000000</td>\n",
       "      <td>0.000000</td>\n",
       "      <td>0.000000</td>\n",
       "      <td>0.000000</td>\n",
       "      <td>0.000000</td>\n",
       "      <td>0.000000</td>\n",
       "      <td>0.000000</td>\n",
       "      <td>0.000000</td>\n",
       "      <td>0.000000</td>\n",
       "      <td>0.000000</td>\n",
       "    </tr>\n",
       "    <tr>\n",
       "      <th>20</th>\n",
       "      <td>5.340973e+12</td>\n",
       "      <td>0.000000</td>\n",
       "      <td>0.000000</td>\n",
       "      <td>0.000000</td>\n",
       "      <td>0.000000</td>\n",
       "      <td>0.000000</td>\n",
       "      <td>0.000000</td>\n",
       "      <td>0.000000</td>\n",
       "      <td>0.000000</td>\n",
       "      <td>0.000000</td>\n",
       "      <td>...</td>\n",
       "      <td>0.000000</td>\n",
       "      <td>0.000000</td>\n",
       "      <td>0.000000</td>\n",
       "      <td>0.000000</td>\n",
       "      <td>0.000000</td>\n",
       "      <td>0.000000</td>\n",
       "      <td>0.000000</td>\n",
       "      <td>0.000000</td>\n",
       "      <td>0.000000</td>\n",
       "      <td>0.000000</td>\n",
       "    </tr>\n",
       "    <tr>\n",
       "      <th>21</th>\n",
       "      <td>-1.278372e+13</td>\n",
       "      <td>0.000000</td>\n",
       "      <td>0.000000</td>\n",
       "      <td>0.000000</td>\n",
       "      <td>0.000000</td>\n",
       "      <td>0.000000</td>\n",
       "      <td>0.000000</td>\n",
       "      <td>0.000000</td>\n",
       "      <td>0.000000</td>\n",
       "      <td>0.000000</td>\n",
       "      <td>...</td>\n",
       "      <td>0.000000</td>\n",
       "      <td>0.000000</td>\n",
       "      <td>0.000000</td>\n",
       "      <td>0.000000</td>\n",
       "      <td>0.000000</td>\n",
       "      <td>0.000000</td>\n",
       "      <td>0.000000</td>\n",
       "      <td>0.000000</td>\n",
       "      <td>0.000000</td>\n",
       "      <td>0.000000</td>\n",
       "    </tr>\n",
       "    <tr>\n",
       "      <th>22</th>\n",
       "      <td>2.526312e+13</td>\n",
       "      <td>0.000000</td>\n",
       "      <td>0.000000</td>\n",
       "      <td>0.000000</td>\n",
       "      <td>0.000000</td>\n",
       "      <td>0.000000</td>\n",
       "      <td>0.000000</td>\n",
       "      <td>0.000000</td>\n",
       "      <td>0.000000</td>\n",
       "      <td>0.000000</td>\n",
       "      <td>...</td>\n",
       "      <td>0.000000</td>\n",
       "      <td>0.000000</td>\n",
       "      <td>0.000000</td>\n",
       "      <td>0.000000</td>\n",
       "      <td>0.000000</td>\n",
       "      <td>0.000000</td>\n",
       "      <td>0.000000</td>\n",
       "      <td>0.000000</td>\n",
       "      <td>0.000000</td>\n",
       "      <td>0.000000</td>\n",
       "    </tr>\n",
       "    <tr>\n",
       "      <th>23</th>\n",
       "      <td>-3.905489e+14</td>\n",
       "      <td>0.000000</td>\n",
       "      <td>0.000000</td>\n",
       "      <td>0.000000</td>\n",
       "      <td>0.000000</td>\n",
       "      <td>0.000000</td>\n",
       "      <td>0.000000</td>\n",
       "      <td>0.000000</td>\n",
       "      <td>0.000000</td>\n",
       "      <td>0.000000</td>\n",
       "      <td>...</td>\n",
       "      <td>0.000000</td>\n",
       "      <td>0.000000</td>\n",
       "      <td>0.000000</td>\n",
       "      <td>0.000000</td>\n",
       "      <td>0.000000</td>\n",
       "      <td>0.000000</td>\n",
       "      <td>0.000000</td>\n",
       "      <td>0.000000</td>\n",
       "      <td>0.000000</td>\n",
       "      <td>0.000000</td>\n",
       "    </tr>\n",
       "  </tbody>\n",
       "</table>\n",
       "<p>24 rows × 41 columns</p>\n",
       "</div>"
      ],
      "text/plain": [
       "alpha           0.0000      0.0125      0.0250      0.0375      0.0500  \\\n",
       "features                                                                 \n",
       "0         6.324077e+01   39.873049   22.176920   15.262722    8.348332   \n",
       "1        -2.497495e+02 -246.690536 -236.132237 -224.553311 -212.974444   \n",
       "2         3.743767e+02  379.716676  372.336877  366.732009  361.126742   \n",
       "3        -7.409573e+02 -354.575546 -226.695172 -190.564624 -154.422027   \n",
       "4         4.247895e+02   93.643889    0.000000   -0.000000   -0.000000   \n",
       "5         3.458376e+01 -116.026745 -171.082203 -197.932980 -224.798758   \n",
       "6         2.369450e+02  202.371138  168.952167  127.019539   85.071065   \n",
       "7         6.145066e+02  455.444945  407.026944  402.388173  397.747986   \n",
       "8         6.108906e+01   46.026824   43.411163   41.132289   38.853250   \n",
       "9         9.219087e+02  526.157428  561.010736  560.925250  560.839081   \n",
       "10       -3.777711e+03  766.232189    0.000000    0.000000    0.000000   \n",
       "11       -3.529150e+05    0.000000    0.000000    0.000000    0.000000   \n",
       "12        1.557045e+06    0.000000    0.000000    0.000000    0.000000   \n",
       "13        6.499479e+07    0.000000    0.000000    0.000000    0.000000   \n",
       "14       -2.298923e+08    0.000000    0.000000    0.000000    0.000000   \n",
       "15       -3.202565e+09    0.000000    0.000000    0.000000    0.000000   \n",
       "16        1.357951e+10    0.000000    0.000000    0.000000    0.000000   \n",
       "17       -5.164027e+10    0.000000    0.000000    0.000000    0.000000   \n",
       "18        3.876092e+11    0.000000    0.000000    0.000000    0.000000   \n",
       "19       -5.912287e+11    0.000000    0.000000    0.000000    0.000000   \n",
       "20        5.340973e+12    0.000000    0.000000    0.000000    0.000000   \n",
       "21       -1.278372e+13    0.000000    0.000000    0.000000    0.000000   \n",
       "22        2.526312e+13    0.000000    0.000000    0.000000    0.000000   \n",
       "23       -3.905489e+14    0.000000    0.000000    0.000000    0.000000   \n",
       "\n",
       "alpha         0.0625      0.0750      0.0875      0.1000      0.1125  ...  \\\n",
       "features                                                              ...   \n",
       "0           1.434413    0.000000    0.000000    0.000000    0.000000  ...   \n",
       "1        -201.395437 -190.438808 -181.807308 -173.267738 -164.748995  ...   \n",
       "2         355.522456  349.006470  344.120933  339.356532  334.593349  ...   \n",
       "3        -118.309021  -83.668140  -70.402239  -58.728859  -47.040794  ...   \n",
       "4          -0.000000   -0.000000   -0.000000   -0.000000   -0.000000  ...   \n",
       "5        -251.627695 -277.930969 -277.040828 -274.106072 -271.194012  ...   \n",
       "6          43.161512    2.640245    0.000000    0.000000    0.000000  ...   \n",
       "7         393.111276  387.879887  380.400712  372.843392  365.287297  ...   \n",
       "8          36.574616   33.692111   29.666843   25.584017   21.504191  ...   \n",
       "9         560.754587  560.542062  559.748811  558.962961  558.163871  ...   \n",
       "10          0.000000    0.000000    0.000000    0.000000    0.000000  ...   \n",
       "11          0.000000    0.000000    0.000000    0.000000    0.000000  ...   \n",
       "12          0.000000    0.000000    0.000000    0.000000    0.000000  ...   \n",
       "13          0.000000    0.000000    0.000000    0.000000    0.000000  ...   \n",
       "14          0.000000    0.000000    0.000000    0.000000    0.000000  ...   \n",
       "15          0.000000    0.000000    0.000000    0.000000    0.000000  ...   \n",
       "16          0.000000    0.000000    0.000000    0.000000    0.000000  ...   \n",
       "17          0.000000    0.000000    0.000000    0.000000    0.000000  ...   \n",
       "18          0.000000    0.000000    0.000000    0.000000    0.000000  ...   \n",
       "19          0.000000    0.000000    0.000000    0.000000    0.000000  ...   \n",
       "20          0.000000    0.000000    0.000000    0.000000    0.000000  ...   \n",
       "21          0.000000    0.000000    0.000000    0.000000    0.000000  ...   \n",
       "22          0.000000    0.000000    0.000000    0.000000    0.000000  ...   \n",
       "23          0.000000    0.000000    0.000000    0.000000    0.000000  ...   \n",
       "\n",
       "alpha         0.3875      0.4000      0.4125      0.4250      0.4375  \\\n",
       "features                                                               \n",
       "0           0.000000    0.000000    0.000000    0.000000    0.000000   \n",
       "1          -0.000000   -0.000000   -0.000000   -0.000000   -0.000000   \n",
       "2         225.949569  222.307087  218.664606  215.022125  211.379635   \n",
       "3          -0.000000   -0.000000   -0.000000   -0.000000   -0.000000   \n",
       "4          -0.000000   -0.000000   -0.000000   -0.000000   -0.000000   \n",
       "5        -141.399660 -137.671790 -133.943921 -130.216052 -126.488169   \n",
       "6           0.000000    0.000000    0.000000    0.000000    0.000000   \n",
       "7         306.222402  304.346676  302.470950  300.595224  298.719485   \n",
       "8           0.000000    0.000000    0.000000    0.000000    0.000000   \n",
       "9         544.153919  542.333070  540.512220  538.691370  536.870534   \n",
       "10          0.000000    0.000000    0.000000    0.000000    0.000000   \n",
       "11          0.000000    0.000000    0.000000    0.000000    0.000000   \n",
       "12          0.000000    0.000000    0.000000    0.000000    0.000000   \n",
       "13          0.000000    0.000000    0.000000    0.000000    0.000000   \n",
       "14          0.000000    0.000000    0.000000    0.000000    0.000000   \n",
       "15          0.000000    0.000000    0.000000    0.000000    0.000000   \n",
       "16          0.000000    0.000000    0.000000    0.000000    0.000000   \n",
       "17          0.000000    0.000000    0.000000    0.000000    0.000000   \n",
       "18          0.000000    0.000000    0.000000    0.000000    0.000000   \n",
       "19          0.000000    0.000000    0.000000    0.000000    0.000000   \n",
       "20          0.000000    0.000000    0.000000    0.000000    0.000000   \n",
       "21          0.000000    0.000000    0.000000    0.000000    0.000000   \n",
       "22          0.000000    0.000000    0.000000    0.000000    0.000000   \n",
       "23          0.000000    0.000000    0.000000    0.000000    0.000000   \n",
       "\n",
       "alpha         0.4500      0.4625      0.4750      0.4875      0.5000  \n",
       "features                                                              \n",
       "0           0.000000    0.000000    0.000000    0.000000    0.000000  \n",
       "1          -0.000000   -0.000000   -0.000000   -0.000000   -0.000000  \n",
       "2         207.736911  204.094241  200.451727  196.809213  193.166699  \n",
       "3          -0.000000   -0.000000   -0.000000   -0.000000   -0.000000  \n",
       "4          -0.000000   -0.000000   -0.000000   -0.000000   -0.000000  \n",
       "5        -122.759857 -119.031611 -115.303554 -111.575497 -107.847440  \n",
       "6           0.000000    0.000000    0.000000    0.000000    0.000000  \n",
       "7         296.843349  294.967167  293.090849  291.214531  289.338214  \n",
       "8           0.000000    0.000000    0.000000    0.000000    0.000000  \n",
       "9         535.050124  533.229690  531.409187  529.588684  527.768180  \n",
       "10          0.000000    0.000000    0.000000    0.000000    0.000000  \n",
       "11          0.000000    0.000000    0.000000    0.000000    0.000000  \n",
       "12          0.000000    0.000000    0.000000    0.000000    0.000000  \n",
       "13          0.000000    0.000000    0.000000    0.000000    0.000000  \n",
       "14          0.000000    0.000000    0.000000    0.000000    0.000000  \n",
       "15          0.000000    0.000000    0.000000    0.000000    0.000000  \n",
       "16          0.000000    0.000000    0.000000    0.000000    0.000000  \n",
       "17          0.000000    0.000000    0.000000    0.000000    0.000000  \n",
       "18          0.000000    0.000000    0.000000    0.000000    0.000000  \n",
       "19          0.000000    0.000000    0.000000    0.000000    0.000000  \n",
       "20          0.000000    0.000000    0.000000    0.000000    0.000000  \n",
       "21          0.000000    0.000000    0.000000    0.000000    0.000000  \n",
       "22          0.000000    0.000000    0.000000    0.000000    0.000000  \n",
       "23          0.000000    0.000000    0.000000    0.000000    0.000000  \n",
       "\n",
       "[24 rows x 41 columns]"
      ]
     },
     "execution_count": 35,
     "metadata": {},
     "output_type": "execute_result"
    }
   ],
   "source": [
    "weights"
   ]
  },
  {
   "cell_type": "markdown",
   "metadata": {},
   "source": [
    "#### L2"
   ]
  },
  {
   "cell_type": "markdown",
   "metadata": {},
   "source": [
    "Веса для L2"
   ]
  },
  {
   "cell_type": "code",
   "execution_count": 36,
   "metadata": {},
   "outputs": [
    {
     "data": {
      "text/html": [
       "<div>\n",
       "<style scoped>\n",
       "    .dataframe tbody tr th:only-of-type {\n",
       "        vertical-align: middle;\n",
       "    }\n",
       "\n",
       "    .dataframe tbody tr th {\n",
       "        vertical-align: top;\n",
       "    }\n",
       "\n",
       "    .dataframe thead th {\n",
       "        text-align: right;\n",
       "    }\n",
       "</style>\n",
       "<table border=\"1\" class=\"dataframe\">\n",
       "  <thead>\n",
       "    <tr style=\"text-align: right;\">\n",
       "      <th>alpha</th>\n",
       "      <th>0.0000</th>\n",
       "      <th>0.0125</th>\n",
       "      <th>0.0250</th>\n",
       "      <th>0.0375</th>\n",
       "      <th>0.0500</th>\n",
       "      <th>0.0625</th>\n",
       "      <th>0.0750</th>\n",
       "      <th>0.0875</th>\n",
       "      <th>0.1000</th>\n",
       "      <th>0.1125</th>\n",
       "      <th>...</th>\n",
       "      <th>0.3875</th>\n",
       "      <th>0.4000</th>\n",
       "      <th>0.4125</th>\n",
       "      <th>0.4250</th>\n",
       "      <th>0.4375</th>\n",
       "      <th>0.4500</th>\n",
       "      <th>0.4625</th>\n",
       "      <th>0.4750</th>\n",
       "      <th>0.4875</th>\n",
       "      <th>0.5000</th>\n",
       "    </tr>\n",
       "    <tr>\n",
       "      <th>features</th>\n",
       "      <th></th>\n",
       "      <th></th>\n",
       "      <th></th>\n",
       "      <th></th>\n",
       "      <th></th>\n",
       "      <th></th>\n",
       "      <th></th>\n",
       "      <th></th>\n",
       "      <th></th>\n",
       "      <th></th>\n",
       "      <th></th>\n",
       "      <th></th>\n",
       "      <th></th>\n",
       "      <th></th>\n",
       "      <th></th>\n",
       "      <th></th>\n",
       "      <th></th>\n",
       "      <th></th>\n",
       "      <th></th>\n",
       "      <th></th>\n",
       "      <th></th>\n",
       "    </tr>\n",
       "  </thead>\n",
       "  <tbody>\n",
       "    <tr>\n",
       "      <th>0</th>\n",
       "      <td>5.089594e+01</td>\n",
       "      <td>4.063464e+01</td>\n",
       "      <td>3.946008e+01</td>\n",
       "      <td>3.935130e+01</td>\n",
       "      <td>3.950348e+01</td>\n",
       "      <td>3.975102e+01</td>\n",
       "      <td>4.003852e+01</td>\n",
       "      <td>4.034224e+01</td>\n",
       "      <td>4.065038e+01</td>\n",
       "      <td>4.095647e+01</td>\n",
       "      <td>...</td>\n",
       "      <td>4.527528e+01</td>\n",
       "      <td>4.537007e+01</td>\n",
       "      <td>4.545810e+01</td>\n",
       "      <td>4.553962e+01</td>\n",
       "      <td>4.561488e+01</td>\n",
       "      <td>4.568410e+01</td>\n",
       "      <td>4.574750e+01</td>\n",
       "      <td>4.580530e+01</td>\n",
       "      <td>4.585772e+01</td>\n",
       "      <td>4.590494e+01</td>\n",
       "    </tr>\n",
       "    <tr>\n",
       "      <th>1</th>\n",
       "      <td>-2.431176e+02</td>\n",
       "      <td>-2.518561e+02</td>\n",
       "      <td>-2.455011e+02</td>\n",
       "      <td>-2.395589e+02</td>\n",
       "      <td>-2.339219e+02</td>\n",
       "      <td>-2.285402e+02</td>\n",
       "      <td>-2.233849e+02</td>\n",
       "      <td>-2.184359e+02</td>\n",
       "      <td>-2.136777e+02</td>\n",
       "      <td>-2.090972e+02</td>\n",
       "      <td>...</td>\n",
       "      <td>-1.386707e+02</td>\n",
       "      <td>-1.364248e+02</td>\n",
       "      <td>-1.342372e+02</td>\n",
       "      <td>-1.321057e+02</td>\n",
       "      <td>-1.300284e+02</td>\n",
       "      <td>-1.280032e+02</td>\n",
       "      <td>-1.260284e+02</td>\n",
       "      <td>-1.241022e+02</td>\n",
       "      <td>-1.222229e+02</td>\n",
       "      <td>-1.203889e+02</td>\n",
       "    </tr>\n",
       "    <tr>\n",
       "      <th>2</th>\n",
       "      <td>3.529504e+02</td>\n",
       "      <td>3.780811e+02</td>\n",
       "      <td>3.713382e+02</td>\n",
       "      <td>3.655920e+02</td>\n",
       "      <td>3.603120e+02</td>\n",
       "      <td>3.553427e+02</td>\n",
       "      <td>3.506154e+02</td>\n",
       "      <td>3.460920e+02</td>\n",
       "      <td>3.417477e+02</td>\n",
       "      <td>3.375645e+02</td>\n",
       "      <td>...</td>\n",
       "      <td>2.707873e+02</td>\n",
       "      <td>2.685187e+02</td>\n",
       "      <td>2.662966e+02</td>\n",
       "      <td>2.641194e+02</td>\n",
       "      <td>2.619854e+02</td>\n",
       "      <td>2.598932e+02</td>\n",
       "      <td>2.578415e+02</td>\n",
       "      <td>2.558288e+02</td>\n",
       "      <td>2.538538e+02</td>\n",
       "      <td>2.519155e+02</td>\n",
       "    </tr>\n",
       "    <tr>\n",
       "      <th>3</th>\n",
       "      <td>-6.256537e+02</td>\n",
       "      <td>-3.576737e+02</td>\n",
       "      <td>-2.426293e+02</td>\n",
       "      <td>-1.913291e+02</td>\n",
       "      <td>-1.617293e+02</td>\n",
       "      <td>-1.421206e+02</td>\n",
       "      <td>-1.279496e+02</td>\n",
       "      <td>-1.170760e+02</td>\n",
       "      <td>-1.083604e+02</td>\n",
       "      <td>-1.011398e+02</td>\n",
       "      <td>...</td>\n",
       "      <td>-3.972592e+01</td>\n",
       "      <td>-3.832676e+01</td>\n",
       "      <td>-3.697657e+01</td>\n",
       "      <td>-3.567241e+01</td>\n",
       "      <td>-3.441164e+01</td>\n",
       "      <td>-3.319183e+01</td>\n",
       "      <td>-3.201080e+01</td>\n",
       "      <td>-3.086652e+01</td>\n",
       "      <td>-2.975715e+01</td>\n",
       "      <td>-2.868098e+01</td>\n",
       "    </tr>\n",
       "    <tr>\n",
       "      <th>4</th>\n",
       "      <td>3.106984e+02</td>\n",
       "      <td>9.542222e+01</td>\n",
       "      <td>8.133663e+00</td>\n",
       "      <td>-2.753508e+01</td>\n",
       "      <td>-4.599089e+01</td>\n",
       "      <td>-5.668027e+01</td>\n",
       "      <td>-6.323888e+01</td>\n",
       "      <td>-6.735952e+01</td>\n",
       "      <td>-6.993475e+01</td>\n",
       "      <td>-7.147860e+01</td>\n",
       "      <td>...</td>\n",
       "      <td>-5.392315e+01</td>\n",
       "      <td>-5.284501e+01</td>\n",
       "      <td>-5.178046e+01</td>\n",
       "      <td>-5.073014e+01</td>\n",
       "      <td>-4.969458e+01</td>\n",
       "      <td>-4.867415e+01</td>\n",
       "      <td>-4.766914e+01</td>\n",
       "      <td>-4.667973e+01</td>\n",
       "      <td>-4.570606e+01</td>\n",
       "      <td>-4.474817e+01</td>\n",
       "    </tr>\n",
       "    <tr>\n",
       "      <th>5</th>\n",
       "      <td>7.025438e+00</td>\n",
       "      <td>-1.224270e+02</td>\n",
       "      <td>-1.697574e+02</td>\n",
       "      <td>-1.895326e+02</td>\n",
       "      <td>-1.997837e+02</td>\n",
       "      <td>-2.056241e+02</td>\n",
       "      <td>-2.090691e+02</td>\n",
       "      <td>-2.110761e+02</td>\n",
       "      <td>-2.121594e+02</td>\n",
       "      <td>-2.126197e+02</td>\n",
       "      <td>...</td>\n",
       "      <td>-1.913879e+02</td>\n",
       "      <td>-1.902689e+02</td>\n",
       "      <td>-1.891601e+02</td>\n",
       "      <td>-1.880620e+02</td>\n",
       "      <td>-1.869746e+02</td>\n",
       "      <td>-1.858984e+02</td>\n",
       "      <td>-1.848335e+02</td>\n",
       "      <td>-1.837800e+02</td>\n",
       "      <td>-1.827379e+02</td>\n",
       "      <td>-1.817073e+02</td>\n",
       "    </tr>\n",
       "    <tr>\n",
       "      <th>6</th>\n",
       "      <td>2.374461e+02</td>\n",
       "      <td>2.023496e+02</td>\n",
       "      <td>1.859252e+02</td>\n",
       "      <td>1.772699e+02</td>\n",
       "      <td>1.716536e+02</td>\n",
       "      <td>1.675908e+02</td>\n",
       "      <td>1.644498e+02</td>\n",
       "      <td>1.619095e+02</td>\n",
       "      <td>1.597866e+02</td>\n",
       "      <td>1.579679e+02</td>\n",
       "      <td>...</td>\n",
       "      <td>1.398496e+02</td>\n",
       "      <td>1.393413e+02</td>\n",
       "      <td>1.388426e+02</td>\n",
       "      <td>1.383527e+02</td>\n",
       "      <td>1.378711e+02</td>\n",
       "      <td>1.373972e+02</td>\n",
       "      <td>1.369305e+02</td>\n",
       "      <td>1.364704e+02</td>\n",
       "      <td>1.360166e+02</td>\n",
       "      <td>1.355687e+02</td>\n",
       "    </tr>\n",
       "    <tr>\n",
       "      <th>7</th>\n",
       "      <td>6.048612e+02</td>\n",
       "      <td>4.482791e+02</td>\n",
       "      <td>3.998983e+02</td>\n",
       "      <td>3.771826e+02</td>\n",
       "      <td>3.631237e+02</td>\n",
       "      <td>3.530453e+02</td>\n",
       "      <td>3.451446e+02</td>\n",
       "      <td>3.385794e+02</td>\n",
       "      <td>3.329034e+02</td>\n",
       "      <td>3.278574e+02</td>\n",
       "      <td>...</td>\n",
       "      <td>2.647782e+02</td>\n",
       "      <td>2.628045e+02</td>\n",
       "      <td>2.608730e+02</td>\n",
       "      <td>2.589816e+02</td>\n",
       "      <td>2.571289e+02</td>\n",
       "      <td>2.553131e+02</td>\n",
       "      <td>2.535328e+02</td>\n",
       "      <td>2.517867e+02</td>\n",
       "      <td>2.500733e+02</td>\n",
       "      <td>2.483916e+02</td>\n",
       "    </tr>\n",
       "    <tr>\n",
       "      <th>8</th>\n",
       "      <td>6.864264e+01</td>\n",
       "      <td>5.236789e+01</td>\n",
       "      <td>5.745766e+01</td>\n",
       "      <td>6.173398e+01</td>\n",
       "      <td>6.553868e+01</td>\n",
       "      <td>6.899202e+01</td>\n",
       "      <td>7.215496e+01</td>\n",
       "      <td>7.506623e+01</td>\n",
       "      <td>7.775405e+01</td>\n",
       "      <td>8.024071e+01</td>\n",
       "      <td>...</td>\n",
       "      <td>1.063153e+02</td>\n",
       "      <td>1.067600e+02</td>\n",
       "      <td>1.071686e+02</td>\n",
       "      <td>1.075431e+02</td>\n",
       "      <td>1.078855e+02</td>\n",
       "      <td>1.081976e+02</td>\n",
       "      <td>1.084810e+02</td>\n",
       "      <td>1.087374e+02</td>\n",
       "      <td>1.089682e+02</td>\n",
       "      <td>1.091749e+02</td>\n",
       "    </tr>\n",
       "    <tr>\n",
       "      <th>9</th>\n",
       "      <td>1.291336e+03</td>\n",
       "      <td>5.337640e+02</td>\n",
       "      <td>5.358641e+02</td>\n",
       "      <td>5.321717e+02</td>\n",
       "      <td>5.269389e+02</td>\n",
       "      <td>5.211689e+02</td>\n",
       "      <td>5.152166e+02</td>\n",
       "      <td>5.092361e+02</td>\n",
       "      <td>5.033024e+02</td>\n",
       "      <td>4.974545e+02</td>\n",
       "      <td>...</td>\n",
       "      <td>3.969797e+02</td>\n",
       "      <td>3.934725e+02</td>\n",
       "      <td>3.900357e+02</td>\n",
       "      <td>3.866670e+02</td>\n",
       "      <td>3.833645e+02</td>\n",
       "      <td>3.801259e+02</td>\n",
       "      <td>3.769494e+02</td>\n",
       "      <td>3.738332e+02</td>\n",
       "      <td>3.707754e+02</td>\n",
       "      <td>3.677743e+02</td>\n",
       "    </tr>\n",
       "    <tr>\n",
       "      <th>10</th>\n",
       "      <td>2.971931e+04</td>\n",
       "      <td>3.918347e+02</td>\n",
       "      <td>2.222075e+02</td>\n",
       "      <td>1.590800e+02</td>\n",
       "      <td>1.259949e+02</td>\n",
       "      <td>1.055573e+02</td>\n",
       "      <td>9.163322e+01</td>\n",
       "      <td>8.150576e+01</td>\n",
       "      <td>7.378627e+01</td>\n",
       "      <td>6.769089e+01</td>\n",
       "      <td>...</td>\n",
       "      <td>2.941725e+01</td>\n",
       "      <td>2.882137e+01</td>\n",
       "      <td>2.825520e+01</td>\n",
       "      <td>2.771632e+01</td>\n",
       "      <td>2.720258e+01</td>\n",
       "      <td>2.671208e+01</td>\n",
       "      <td>2.624307e+01</td>\n",
       "      <td>2.579403e+01</td>\n",
       "      <td>2.536355e+01</td>\n",
       "      <td>2.495038e+01</td>\n",
       "    </tr>\n",
       "    <tr>\n",
       "      <th>11</th>\n",
       "      <td>3.404621e+03</td>\n",
       "      <td>3.792756e+01</td>\n",
       "      <td>2.214083e+01</td>\n",
       "      <td>1.633210e+01</td>\n",
       "      <td>1.329048e+01</td>\n",
       "      <td>1.140740e+01</td>\n",
       "      <td>1.011954e+01</td>\n",
       "      <td>9.178268e+00</td>\n",
       "      <td>8.456764e+00</td>\n",
       "      <td>7.883533e+00</td>\n",
       "      <td>...</td>\n",
       "      <td>4.079622e+00</td>\n",
       "      <td>4.013995e+00</td>\n",
       "      <td>3.951288e+00</td>\n",
       "      <td>3.891275e+00</td>\n",
       "      <td>3.833753e+00</td>\n",
       "      <td>3.778542e+00</td>\n",
       "      <td>3.725480e+00</td>\n",
       "      <td>3.674420e+00</td>\n",
       "      <td>3.625231e+00</td>\n",
       "      <td>3.577793e+00</td>\n",
       "    </tr>\n",
       "    <tr>\n",
       "      <th>12</th>\n",
       "      <td>-2.515281e+07</td>\n",
       "      <td>7.504537e+00</td>\n",
       "      <td>4.165584e+00</td>\n",
       "      <td>2.948511e+00</td>\n",
       "      <td>2.315598e+00</td>\n",
       "      <td>1.926440e+00</td>\n",
       "      <td>1.662224e+00</td>\n",
       "      <td>1.470613e+00</td>\n",
       "      <td>1.324951e+00</td>\n",
       "      <td>1.210226e+00</td>\n",
       "      <td>...</td>\n",
       "      <td>5.024425e-01</td>\n",
       "      <td>4.917700e-01</td>\n",
       "      <td>4.816472e-01</td>\n",
       "      <td>4.720286e-01</td>\n",
       "      <td>4.628740e-01</td>\n",
       "      <td>4.541472e-01</td>\n",
       "      <td>4.458162e-01</td>\n",
       "      <td>4.378519e-01</td>\n",
       "      <td>4.302283e-01</td>\n",
       "      <td>4.229219e-01</td>\n",
       "    </tr>\n",
       "    <tr>\n",
       "      <th>13</th>\n",
       "      <td>-9.038070e+08</td>\n",
       "      <td>9.354067e-01</td>\n",
       "      <td>5.210661e-01</td>\n",
       "      <td>3.706136e-01</td>\n",
       "      <td>2.924409e-01</td>\n",
       "      <td>2.443763e-01</td>\n",
       "      <td>2.117312e-01</td>\n",
       "      <td>1.880428e-01</td>\n",
       "      <td>1.700211e-01</td>\n",
       "      <td>1.558148e-01</td>\n",
       "      <td>...</td>\n",
       "      <td>6.740527e-02</td>\n",
       "      <td>6.604740e-02</td>\n",
       "      <td>6.475804e-02</td>\n",
       "      <td>6.353157e-02</td>\n",
       "      <td>6.236301e-02</td>\n",
       "      <td>6.124790e-02</td>\n",
       "      <td>6.018225e-02</td>\n",
       "      <td>5.916248e-02</td>\n",
       "      <td>5.818535e-02</td>\n",
       "      <td>5.724794e-02</td>\n",
       "    </tr>\n",
       "    <tr>\n",
       "      <th>14</th>\n",
       "      <td>9.573729e+09</td>\n",
       "      <td>1.479334e-01</td>\n",
       "      <td>8.135614e-02</td>\n",
       "      <td>5.725804e-02</td>\n",
       "      <td>4.476189e-02</td>\n",
       "      <td>3.709233e-02</td>\n",
       "      <td>3.189260e-02</td>\n",
       "      <td>2.812658e-02</td>\n",
       "      <td>2.526713e-02</td>\n",
       "      <td>2.301768e-02</td>\n",
       "      <td>...</td>\n",
       "      <td>9.263125e-03</td>\n",
       "      <td>9.059285e-03</td>\n",
       "      <td>8.866133e-03</td>\n",
       "      <td>8.682780e-03</td>\n",
       "      <td>8.508436e-03</td>\n",
       "      <td>8.342396e-03</td>\n",
       "      <td>8.184030e-03</td>\n",
       "      <td>8.032771e-03</td>\n",
       "      <td>7.888110e-03</td>\n",
       "      <td>7.749587e-03</td>\n",
       "    </tr>\n",
       "    <tr>\n",
       "      <th>15</th>\n",
       "      <td>5.122022e+11</td>\n",
       "      <td>2.092887e-02</td>\n",
       "      <td>1.148954e-02</td>\n",
       "      <td>8.082196e-03</td>\n",
       "      <td>6.317088e-03</td>\n",
       "      <td>5.234334e-03</td>\n",
       "      <td>4.500516e-03</td>\n",
       "      <td>3.969161e-03</td>\n",
       "      <td>3.565793e-03</td>\n",
       "      <td>3.248523e-03</td>\n",
       "      <td>...</td>\n",
       "      <td>1.309536e-03</td>\n",
       "      <td>1.280812e-03</td>\n",
       "      <td>1.253595e-03</td>\n",
       "      <td>1.227758e-03</td>\n",
       "      <td>1.203190e-03</td>\n",
       "      <td>1.179793e-03</td>\n",
       "      <td>1.157477e-03</td>\n",
       "      <td>1.136162e-03</td>\n",
       "      <td>1.115777e-03</td>\n",
       "      <td>1.096257e-03</td>\n",
       "    </tr>\n",
       "    <tr>\n",
       "      <th>16</th>\n",
       "      <td>-3.179676e+12</td>\n",
       "      <td>3.231994e-03</td>\n",
       "      <td>1.763858e-03</td>\n",
       "      <td>1.235340e-03</td>\n",
       "      <td>9.619225e-04</td>\n",
       "      <td>7.943718e-04</td>\n",
       "      <td>6.809193e-04</td>\n",
       "      <td>5.988400e-04</td>\n",
       "      <td>5.365848e-04</td>\n",
       "      <td>4.876606e-04</td>\n",
       "      <td>...</td>\n",
       "      <td>1.907475e-04</td>\n",
       "      <td>1.864113e-04</td>\n",
       "      <td>1.823060e-04</td>\n",
       "      <td>1.784121e-04</td>\n",
       "      <td>1.747125e-04</td>\n",
       "      <td>1.711919e-04</td>\n",
       "      <td>1.678367e-04</td>\n",
       "      <td>1.646345e-04</td>\n",
       "      <td>1.615743e-04</td>\n",
       "      <td>1.586461e-04</td>\n",
       "    </tr>\n",
       "    <tr>\n",
       "      <th>17</th>\n",
       "      <td>-1.127004e+14</td>\n",
       "      <td>4.879434e-04</td>\n",
       "      <td>2.655196e-04</td>\n",
       "      <td>1.856520e-04</td>\n",
       "      <td>1.443786e-04</td>\n",
       "      <td>1.191033e-04</td>\n",
       "      <td>1.019974e-04</td>\n",
       "      <td>8.962722e-05</td>\n",
       "      <td>8.024836e-05</td>\n",
       "      <td>7.288052e-05</td>\n",
       "      <td>...</td>\n",
       "      <td>2.827447e-05</td>\n",
       "      <td>2.762597e-05</td>\n",
       "      <td>2.701213e-05</td>\n",
       "      <td>2.643005e-05</td>\n",
       "      <td>2.587715e-05</td>\n",
       "      <td>2.535113e-05</td>\n",
       "      <td>2.484993e-05</td>\n",
       "      <td>2.437170e-05</td>\n",
       "      <td>2.391477e-05</td>\n",
       "      <td>2.347765e-05</td>\n",
       "    </tr>\n",
       "    <tr>\n",
       "      <th>18</th>\n",
       "      <td>7.821827e+14</td>\n",
       "      <td>7.613455e-05</td>\n",
       "      <td>4.127807e-05</td>\n",
       "      <td>2.879117e-05</td>\n",
       "      <td>2.234522e-05</td>\n",
       "      <td>1.840068e-05</td>\n",
       "      <td>1.573269e-05</td>\n",
       "      <td>1.380435e-05</td>\n",
       "      <td>1.234308e-05</td>\n",
       "      <td>1.119571e-05</td>\n",
       "      <td>...</td>\n",
       "      <td>4.275318e-06</td>\n",
       "      <td>4.175456e-06</td>\n",
       "      <td>4.080973e-06</td>\n",
       "      <td>3.991418e-06</td>\n",
       "      <td>3.906388e-06</td>\n",
       "      <td>3.825525e-06</td>\n",
       "      <td>3.748508e-06</td>\n",
       "      <td>3.675051e-06</td>\n",
       "      <td>3.604895e-06</td>\n",
       "      <td>3.537805e-06</td>\n",
       "    </tr>\n",
       "    <tr>\n",
       "      <th>19</th>\n",
       "      <td>1.051418e+16</td>\n",
       "      <td>1.186306e-05</td>\n",
       "      <td>6.415228e-06</td>\n",
       "      <td>4.467706e-06</td>\n",
       "      <td>3.463284e-06</td>\n",
       "      <td>2.848994e-06</td>\n",
       "      <td>2.433690e-06</td>\n",
       "      <td>2.133636e-06</td>\n",
       "      <td>1.906337e-06</td>\n",
       "      <td>1.727925e-06</td>\n",
       "      <td>...</td>\n",
       "      <td>6.542346e-07</td>\n",
       "      <td>6.388074e-07</td>\n",
       "      <td>6.242148e-07</td>\n",
       "      <td>6.103866e-07</td>\n",
       "      <td>5.972601e-07</td>\n",
       "      <td>5.847798e-07</td>\n",
       "      <td>5.728960e-07</td>\n",
       "      <td>5.615638e-07</td>\n",
       "      <td>5.507432e-07</td>\n",
       "      <td>5.403979e-07</td>\n",
       "    </tr>\n",
       "    <tr>\n",
       "      <th>20</th>\n",
       "      <td>-9.665100e+16</td>\n",
       "      <td>1.872867e-06</td>\n",
       "      <td>1.010295e-06</td>\n",
       "      <td>7.025014e-07</td>\n",
       "      <td>5.438883e-07</td>\n",
       "      <td>4.469344e-07</td>\n",
       "      <td>3.814140e-07</td>\n",
       "      <td>3.340933e-07</td>\n",
       "      <td>2.982588e-07</td>\n",
       "      <td>2.701405e-07</td>\n",
       "      <td>...</td>\n",
       "      <td>1.013114e-07</td>\n",
       "      <td>9.889652e-08</td>\n",
       "      <td>9.661290e-08</td>\n",
       "      <td>9.444944e-08</td>\n",
       "      <td>9.239630e-08</td>\n",
       "      <td>9.044472e-08</td>\n",
       "      <td>8.858685e-08</td>\n",
       "      <td>8.681566e-08</td>\n",
       "      <td>8.512483e-08</td>\n",
       "      <td>8.350864e-08</td>\n",
       "    </tr>\n",
       "    <tr>\n",
       "      <th>21</th>\n",
       "      <td>-2.476265e+17</td>\n",
       "      <td>2.963682e-07</td>\n",
       "      <td>1.595621e-07</td>\n",
       "      <td>1.108226e-07</td>\n",
       "      <td>8.572331e-08</td>\n",
       "      <td>7.038787e-08</td>\n",
       "      <td>6.002782e-08</td>\n",
       "      <td>5.254765e-08</td>\n",
       "      <td>4.688460e-08</td>\n",
       "      <td>4.244207e-08</td>\n",
       "      <td>...</td>\n",
       "      <td>1.581219e-08</td>\n",
       "      <td>1.543251e-08</td>\n",
       "      <td>1.507352e-08</td>\n",
       "      <td>1.473349e-08</td>\n",
       "      <td>1.441085e-08</td>\n",
       "      <td>1.410423e-08</td>\n",
       "      <td>1.381237e-08</td>\n",
       "      <td>1.353419e-08</td>\n",
       "      <td>1.326866e-08</td>\n",
       "      <td>1.301490e-08</td>\n",
       "    </tr>\n",
       "    <tr>\n",
       "      <th>22</th>\n",
       "      <td>4.403298e+18</td>\n",
       "      <td>4.716589e-08</td>\n",
       "      <td>2.535082e-08</td>\n",
       "      <td>1.758923e-08</td>\n",
       "      <td>1.359463e-08</td>\n",
       "      <td>1.115488e-08</td>\n",
       "      <td>9.507157e-09</td>\n",
       "      <td>8.317761e-09</td>\n",
       "      <td>7.417502e-09</td>\n",
       "      <td>6.711421e-09</td>\n",
       "      <td>...</td>\n",
       "      <td>2.485180e-09</td>\n",
       "      <td>2.425096e-09</td>\n",
       "      <td>2.368297e-09</td>\n",
       "      <td>2.314505e-09</td>\n",
       "      <td>2.263474e-09</td>\n",
       "      <td>2.214982e-09</td>\n",
       "      <td>2.168835e-09</td>\n",
       "      <td>2.124854e-09</td>\n",
       "      <td>2.082883e-09</td>\n",
       "      <td>2.042777e-09</td>\n",
       "    </tr>\n",
       "    <tr>\n",
       "      <th>23</th>\n",
       "      <td>-1.108772e+19</td>\n",
       "      <td>7.522318e-09</td>\n",
       "      <td>4.037574e-09</td>\n",
       "      <td>2.799145e-09</td>\n",
       "      <td>2.162088e-09</td>\n",
       "      <td>1.773120e-09</td>\n",
       "      <td>1.510486e-09</td>\n",
       "      <td>1.320943e-09</td>\n",
       "      <td>1.177504e-09</td>\n",
       "      <td>1.065023e-09</td>\n",
       "      <td>...</td>\n",
       "      <td>3.925319e-10</td>\n",
       "      <td>3.829923e-10</td>\n",
       "      <td>3.739753e-10</td>\n",
       "      <td>3.654369e-10</td>\n",
       "      <td>3.573375e-10</td>\n",
       "      <td>3.496423e-10</td>\n",
       "      <td>3.423199e-10</td>\n",
       "      <td>3.353421e-10</td>\n",
       "      <td>3.286839e-10</td>\n",
       "      <td>3.223222e-10</td>\n",
       "    </tr>\n",
       "  </tbody>\n",
       "</table>\n",
       "<p>24 rows × 41 columns</p>\n",
       "</div>"
      ],
      "text/plain": [
       "alpha           0.0000        0.0125        0.0250        0.0375  \\\n",
       "features                                                           \n",
       "0         5.089594e+01  4.063464e+01  3.946008e+01  3.935130e+01   \n",
       "1        -2.431176e+02 -2.518561e+02 -2.455011e+02 -2.395589e+02   \n",
       "2         3.529504e+02  3.780811e+02  3.713382e+02  3.655920e+02   \n",
       "3        -6.256537e+02 -3.576737e+02 -2.426293e+02 -1.913291e+02   \n",
       "4         3.106984e+02  9.542222e+01  8.133663e+00 -2.753508e+01   \n",
       "5         7.025438e+00 -1.224270e+02 -1.697574e+02 -1.895326e+02   \n",
       "6         2.374461e+02  2.023496e+02  1.859252e+02  1.772699e+02   \n",
       "7         6.048612e+02  4.482791e+02  3.998983e+02  3.771826e+02   \n",
       "8         6.864264e+01  5.236789e+01  5.745766e+01  6.173398e+01   \n",
       "9         1.291336e+03  5.337640e+02  5.358641e+02  5.321717e+02   \n",
       "10        2.971931e+04  3.918347e+02  2.222075e+02  1.590800e+02   \n",
       "11        3.404621e+03  3.792756e+01  2.214083e+01  1.633210e+01   \n",
       "12       -2.515281e+07  7.504537e+00  4.165584e+00  2.948511e+00   \n",
       "13       -9.038070e+08  9.354067e-01  5.210661e-01  3.706136e-01   \n",
       "14        9.573729e+09  1.479334e-01  8.135614e-02  5.725804e-02   \n",
       "15        5.122022e+11  2.092887e-02  1.148954e-02  8.082196e-03   \n",
       "16       -3.179676e+12  3.231994e-03  1.763858e-03  1.235340e-03   \n",
       "17       -1.127004e+14  4.879434e-04  2.655196e-04  1.856520e-04   \n",
       "18        7.821827e+14  7.613455e-05  4.127807e-05  2.879117e-05   \n",
       "19        1.051418e+16  1.186306e-05  6.415228e-06  4.467706e-06   \n",
       "20       -9.665100e+16  1.872867e-06  1.010295e-06  7.025014e-07   \n",
       "21       -2.476265e+17  2.963682e-07  1.595621e-07  1.108226e-07   \n",
       "22        4.403298e+18  4.716589e-08  2.535082e-08  1.758923e-08   \n",
       "23       -1.108772e+19  7.522318e-09  4.037574e-09  2.799145e-09   \n",
       "\n",
       "alpha           0.0500        0.0625        0.0750        0.0875  \\\n",
       "features                                                           \n",
       "0         3.950348e+01  3.975102e+01  4.003852e+01  4.034224e+01   \n",
       "1        -2.339219e+02 -2.285402e+02 -2.233849e+02 -2.184359e+02   \n",
       "2         3.603120e+02  3.553427e+02  3.506154e+02  3.460920e+02   \n",
       "3        -1.617293e+02 -1.421206e+02 -1.279496e+02 -1.170760e+02   \n",
       "4        -4.599089e+01 -5.668027e+01 -6.323888e+01 -6.735952e+01   \n",
       "5        -1.997837e+02 -2.056241e+02 -2.090691e+02 -2.110761e+02   \n",
       "6         1.716536e+02  1.675908e+02  1.644498e+02  1.619095e+02   \n",
       "7         3.631237e+02  3.530453e+02  3.451446e+02  3.385794e+02   \n",
       "8         6.553868e+01  6.899202e+01  7.215496e+01  7.506623e+01   \n",
       "9         5.269389e+02  5.211689e+02  5.152166e+02  5.092361e+02   \n",
       "10        1.259949e+02  1.055573e+02  9.163322e+01  8.150576e+01   \n",
       "11        1.329048e+01  1.140740e+01  1.011954e+01  9.178268e+00   \n",
       "12        2.315598e+00  1.926440e+00  1.662224e+00  1.470613e+00   \n",
       "13        2.924409e-01  2.443763e-01  2.117312e-01  1.880428e-01   \n",
       "14        4.476189e-02  3.709233e-02  3.189260e-02  2.812658e-02   \n",
       "15        6.317088e-03  5.234334e-03  4.500516e-03  3.969161e-03   \n",
       "16        9.619225e-04  7.943718e-04  6.809193e-04  5.988400e-04   \n",
       "17        1.443786e-04  1.191033e-04  1.019974e-04  8.962722e-05   \n",
       "18        2.234522e-05  1.840068e-05  1.573269e-05  1.380435e-05   \n",
       "19        3.463284e-06  2.848994e-06  2.433690e-06  2.133636e-06   \n",
       "20        5.438883e-07  4.469344e-07  3.814140e-07  3.340933e-07   \n",
       "21        8.572331e-08  7.038787e-08  6.002782e-08  5.254765e-08   \n",
       "22        1.359463e-08  1.115488e-08  9.507157e-09  8.317761e-09   \n",
       "23        2.162088e-09  1.773120e-09  1.510486e-09  1.320943e-09   \n",
       "\n",
       "alpha           0.1000        0.1125  ...        0.3875        0.4000  \\\n",
       "features                              ...                               \n",
       "0         4.065038e+01  4.095647e+01  ...  4.527528e+01  4.537007e+01   \n",
       "1        -2.136777e+02 -2.090972e+02  ... -1.386707e+02 -1.364248e+02   \n",
       "2         3.417477e+02  3.375645e+02  ...  2.707873e+02  2.685187e+02   \n",
       "3        -1.083604e+02 -1.011398e+02  ... -3.972592e+01 -3.832676e+01   \n",
       "4        -6.993475e+01 -7.147860e+01  ... -5.392315e+01 -5.284501e+01   \n",
       "5        -2.121594e+02 -2.126197e+02  ... -1.913879e+02 -1.902689e+02   \n",
       "6         1.597866e+02  1.579679e+02  ...  1.398496e+02  1.393413e+02   \n",
       "7         3.329034e+02  3.278574e+02  ...  2.647782e+02  2.628045e+02   \n",
       "8         7.775405e+01  8.024071e+01  ...  1.063153e+02  1.067600e+02   \n",
       "9         5.033024e+02  4.974545e+02  ...  3.969797e+02  3.934725e+02   \n",
       "10        7.378627e+01  6.769089e+01  ...  2.941725e+01  2.882137e+01   \n",
       "11        8.456764e+00  7.883533e+00  ...  4.079622e+00  4.013995e+00   \n",
       "12        1.324951e+00  1.210226e+00  ...  5.024425e-01  4.917700e-01   \n",
       "13        1.700211e-01  1.558148e-01  ...  6.740527e-02  6.604740e-02   \n",
       "14        2.526713e-02  2.301768e-02  ...  9.263125e-03  9.059285e-03   \n",
       "15        3.565793e-03  3.248523e-03  ...  1.309536e-03  1.280812e-03   \n",
       "16        5.365848e-04  4.876606e-04  ...  1.907475e-04  1.864113e-04   \n",
       "17        8.024836e-05  7.288052e-05  ...  2.827447e-05  2.762597e-05   \n",
       "18        1.234308e-05  1.119571e-05  ...  4.275318e-06  4.175456e-06   \n",
       "19        1.906337e-06  1.727925e-06  ...  6.542346e-07  6.388074e-07   \n",
       "20        2.982588e-07  2.701405e-07  ...  1.013114e-07  9.889652e-08   \n",
       "21        4.688460e-08  4.244207e-08  ...  1.581219e-08  1.543251e-08   \n",
       "22        7.417502e-09  6.711421e-09  ...  2.485180e-09  2.425096e-09   \n",
       "23        1.177504e-09  1.065023e-09  ...  3.925319e-10  3.829923e-10   \n",
       "\n",
       "alpha           0.4125        0.4250        0.4375        0.4500  \\\n",
       "features                                                           \n",
       "0         4.545810e+01  4.553962e+01  4.561488e+01  4.568410e+01   \n",
       "1        -1.342372e+02 -1.321057e+02 -1.300284e+02 -1.280032e+02   \n",
       "2         2.662966e+02  2.641194e+02  2.619854e+02  2.598932e+02   \n",
       "3        -3.697657e+01 -3.567241e+01 -3.441164e+01 -3.319183e+01   \n",
       "4        -5.178046e+01 -5.073014e+01 -4.969458e+01 -4.867415e+01   \n",
       "5        -1.891601e+02 -1.880620e+02 -1.869746e+02 -1.858984e+02   \n",
       "6         1.388426e+02  1.383527e+02  1.378711e+02  1.373972e+02   \n",
       "7         2.608730e+02  2.589816e+02  2.571289e+02  2.553131e+02   \n",
       "8         1.071686e+02  1.075431e+02  1.078855e+02  1.081976e+02   \n",
       "9         3.900357e+02  3.866670e+02  3.833645e+02  3.801259e+02   \n",
       "10        2.825520e+01  2.771632e+01  2.720258e+01  2.671208e+01   \n",
       "11        3.951288e+00  3.891275e+00  3.833753e+00  3.778542e+00   \n",
       "12        4.816472e-01  4.720286e-01  4.628740e-01  4.541472e-01   \n",
       "13        6.475804e-02  6.353157e-02  6.236301e-02  6.124790e-02   \n",
       "14        8.866133e-03  8.682780e-03  8.508436e-03  8.342396e-03   \n",
       "15        1.253595e-03  1.227758e-03  1.203190e-03  1.179793e-03   \n",
       "16        1.823060e-04  1.784121e-04  1.747125e-04  1.711919e-04   \n",
       "17        2.701213e-05  2.643005e-05  2.587715e-05  2.535113e-05   \n",
       "18        4.080973e-06  3.991418e-06  3.906388e-06  3.825525e-06   \n",
       "19        6.242148e-07  6.103866e-07  5.972601e-07  5.847798e-07   \n",
       "20        9.661290e-08  9.444944e-08  9.239630e-08  9.044472e-08   \n",
       "21        1.507352e-08  1.473349e-08  1.441085e-08  1.410423e-08   \n",
       "22        2.368297e-09  2.314505e-09  2.263474e-09  2.214982e-09   \n",
       "23        3.739753e-10  3.654369e-10  3.573375e-10  3.496423e-10   \n",
       "\n",
       "alpha           0.4625        0.4750        0.4875        0.5000  \n",
       "features                                                          \n",
       "0         4.574750e+01  4.580530e+01  4.585772e+01  4.590494e+01  \n",
       "1        -1.260284e+02 -1.241022e+02 -1.222229e+02 -1.203889e+02  \n",
       "2         2.578415e+02  2.558288e+02  2.538538e+02  2.519155e+02  \n",
       "3        -3.201080e+01 -3.086652e+01 -2.975715e+01 -2.868098e+01  \n",
       "4        -4.766914e+01 -4.667973e+01 -4.570606e+01 -4.474817e+01  \n",
       "5        -1.848335e+02 -1.837800e+02 -1.827379e+02 -1.817073e+02  \n",
       "6         1.369305e+02  1.364704e+02  1.360166e+02  1.355687e+02  \n",
       "7         2.535328e+02  2.517867e+02  2.500733e+02  2.483916e+02  \n",
       "8         1.084810e+02  1.087374e+02  1.089682e+02  1.091749e+02  \n",
       "9         3.769494e+02  3.738332e+02  3.707754e+02  3.677743e+02  \n",
       "10        2.624307e+01  2.579403e+01  2.536355e+01  2.495038e+01  \n",
       "11        3.725480e+00  3.674420e+00  3.625231e+00  3.577793e+00  \n",
       "12        4.458162e-01  4.378519e-01  4.302283e-01  4.229219e-01  \n",
       "13        6.018225e-02  5.916248e-02  5.818535e-02  5.724794e-02  \n",
       "14        8.184030e-03  8.032771e-03  7.888110e-03  7.749587e-03  \n",
       "15        1.157477e-03  1.136162e-03  1.115777e-03  1.096257e-03  \n",
       "16        1.678367e-04  1.646345e-04  1.615743e-04  1.586461e-04  \n",
       "17        2.484993e-05  2.437170e-05  2.391477e-05  2.347765e-05  \n",
       "18        3.748508e-06  3.675051e-06  3.604895e-06  3.537805e-06  \n",
       "19        5.728960e-07  5.615638e-07  5.507432e-07  5.403979e-07  \n",
       "20        8.858685e-08  8.681566e-08  8.512483e-08  8.350864e-08  \n",
       "21        1.381237e-08  1.353419e-08  1.326866e-08  1.301490e-08  \n",
       "22        2.168835e-09  2.124854e-09  2.082883e-09  2.042777e-09  \n",
       "23        3.423199e-10  3.353421e-10  3.286839e-10  3.223222e-10  \n",
       "\n",
       "[24 rows x 41 columns]"
      ]
     },
     "execution_count": 36,
     "metadata": {},
     "output_type": "execute_result"
    }
   ],
   "source": [
    "weights_L2"
   ]
  },
  {
   "cell_type": "markdown",
   "metadata": {},
   "source": [
    "Найдем количество признаков, для которых веса = 0 для двух типов регуляризации"
   ]
  },
  {
   "cell_type": "code",
   "execution_count": 37,
   "metadata": {},
   "outputs": [
    {
     "data": {
      "text/html": [
       "<div>\n",
       "<style scoped>\n",
       "    .dataframe tbody tr th:only-of-type {\n",
       "        vertical-align: middle;\n",
       "    }\n",
       "\n",
       "    .dataframe tbody tr th {\n",
       "        vertical-align: top;\n",
       "    }\n",
       "\n",
       "    .dataframe thead th {\n",
       "        text-align: right;\n",
       "    }\n",
       "</style>\n",
       "<table border=\"1\" class=\"dataframe\">\n",
       "  <thead>\n",
       "    <tr style=\"text-align: right;\">\n",
       "      <th></th>\n",
       "      <th>L1 all columns w=0</th>\n",
       "      <th>L1 poly columns w=0</th>\n",
       "      <th>L2 all columns w=0</th>\n",
       "      <th>L2 w&lt;1e-3</th>\n",
       "    </tr>\n",
       "    <tr>\n",
       "      <th>alpha</th>\n",
       "      <th></th>\n",
       "      <th></th>\n",
       "      <th></th>\n",
       "      <th></th>\n",
       "    </tr>\n",
       "  </thead>\n",
       "  <tbody>\n",
       "    <tr>\n",
       "      <th>0.0000</th>\n",
       "      <td>0</td>\n",
       "      <td>0</td>\n",
       "      <td>0</td>\n",
       "      <td>9</td>\n",
       "    </tr>\n",
       "    <tr>\n",
       "      <th>0.0125</th>\n",
       "      <td>13</td>\n",
       "      <td>13</td>\n",
       "      <td>0</td>\n",
       "      <td>10</td>\n",
       "    </tr>\n",
       "    <tr>\n",
       "      <th>0.0250</th>\n",
       "      <td>15</td>\n",
       "      <td>14</td>\n",
       "      <td>0</td>\n",
       "      <td>10</td>\n",
       "    </tr>\n",
       "    <tr>\n",
       "      <th>0.0375</th>\n",
       "      <td>15</td>\n",
       "      <td>14</td>\n",
       "      <td>0</td>\n",
       "      <td>11</td>\n",
       "    </tr>\n",
       "    <tr>\n",
       "      <th>0.0500</th>\n",
       "      <td>15</td>\n",
       "      <td>14</td>\n",
       "      <td>0</td>\n",
       "      <td>12</td>\n",
       "    </tr>\n",
       "    <tr>\n",
       "      <th>0.0625</th>\n",
       "      <td>15</td>\n",
       "      <td>14</td>\n",
       "      <td>0</td>\n",
       "      <td>12</td>\n",
       "    </tr>\n",
       "    <tr>\n",
       "      <th>0.0750</th>\n",
       "      <td>16</td>\n",
       "      <td>14</td>\n",
       "      <td>0</td>\n",
       "      <td>12</td>\n",
       "    </tr>\n",
       "    <tr>\n",
       "      <th>0.0875</th>\n",
       "      <td>17</td>\n",
       "      <td>14</td>\n",
       "      <td>0</td>\n",
       "      <td>12</td>\n",
       "    </tr>\n",
       "    <tr>\n",
       "      <th>0.1000</th>\n",
       "      <td>17</td>\n",
       "      <td>14</td>\n",
       "      <td>0</td>\n",
       "      <td>12</td>\n",
       "    </tr>\n",
       "    <tr>\n",
       "      <th>0.1125</th>\n",
       "      <td>17</td>\n",
       "      <td>14</td>\n",
       "      <td>0</td>\n",
       "      <td>12</td>\n",
       "    </tr>\n",
       "    <tr>\n",
       "      <th>0.1250</th>\n",
       "      <td>17</td>\n",
       "      <td>14</td>\n",
       "      <td>0</td>\n",
       "      <td>12</td>\n",
       "    </tr>\n",
       "    <tr>\n",
       "      <th>0.1375</th>\n",
       "      <td>17</td>\n",
       "      <td>14</td>\n",
       "      <td>0</td>\n",
       "      <td>12</td>\n",
       "    </tr>\n",
       "    <tr>\n",
       "      <th>0.1500</th>\n",
       "      <td>17</td>\n",
       "      <td>14</td>\n",
       "      <td>0</td>\n",
       "      <td>12</td>\n",
       "    </tr>\n",
       "    <tr>\n",
       "      <th>0.1625</th>\n",
       "      <td>17</td>\n",
       "      <td>14</td>\n",
       "      <td>0</td>\n",
       "      <td>12</td>\n",
       "    </tr>\n",
       "    <tr>\n",
       "      <th>0.1750</th>\n",
       "      <td>18</td>\n",
       "      <td>14</td>\n",
       "      <td>0</td>\n",
       "      <td>12</td>\n",
       "    </tr>\n",
       "    <tr>\n",
       "      <th>0.1875</th>\n",
       "      <td>18</td>\n",
       "      <td>14</td>\n",
       "      <td>0</td>\n",
       "      <td>12</td>\n",
       "    </tr>\n",
       "    <tr>\n",
       "      <th>0.2000</th>\n",
       "      <td>19</td>\n",
       "      <td>14</td>\n",
       "      <td>0</td>\n",
       "      <td>12</td>\n",
       "    </tr>\n",
       "    <tr>\n",
       "      <th>0.2125</th>\n",
       "      <td>19</td>\n",
       "      <td>14</td>\n",
       "      <td>0</td>\n",
       "      <td>12</td>\n",
       "    </tr>\n",
       "    <tr>\n",
       "      <th>0.2250</th>\n",
       "      <td>19</td>\n",
       "      <td>14</td>\n",
       "      <td>0</td>\n",
       "      <td>12</td>\n",
       "    </tr>\n",
       "    <tr>\n",
       "      <th>0.2375</th>\n",
       "      <td>19</td>\n",
       "      <td>14</td>\n",
       "      <td>0</td>\n",
       "      <td>12</td>\n",
       "    </tr>\n",
       "    <tr>\n",
       "      <th>0.2500</th>\n",
       "      <td>19</td>\n",
       "      <td>14</td>\n",
       "      <td>0</td>\n",
       "      <td>12</td>\n",
       "    </tr>\n",
       "    <tr>\n",
       "      <th>0.2625</th>\n",
       "      <td>19</td>\n",
       "      <td>14</td>\n",
       "      <td>0</td>\n",
       "      <td>12</td>\n",
       "    </tr>\n",
       "    <tr>\n",
       "      <th>0.2750</th>\n",
       "      <td>19</td>\n",
       "      <td>14</td>\n",
       "      <td>0</td>\n",
       "      <td>12</td>\n",
       "    </tr>\n",
       "    <tr>\n",
       "      <th>0.2875</th>\n",
       "      <td>19</td>\n",
       "      <td>14</td>\n",
       "      <td>0</td>\n",
       "      <td>12</td>\n",
       "    </tr>\n",
       "    <tr>\n",
       "      <th>0.3000</th>\n",
       "      <td>19</td>\n",
       "      <td>14</td>\n",
       "      <td>0</td>\n",
       "      <td>12</td>\n",
       "    </tr>\n",
       "    <tr>\n",
       "      <th>0.3125</th>\n",
       "      <td>19</td>\n",
       "      <td>14</td>\n",
       "      <td>0</td>\n",
       "      <td>12</td>\n",
       "    </tr>\n",
       "    <tr>\n",
       "      <th>0.3250</th>\n",
       "      <td>19</td>\n",
       "      <td>14</td>\n",
       "      <td>0</td>\n",
       "      <td>12</td>\n",
       "    </tr>\n",
       "    <tr>\n",
       "      <th>0.3375</th>\n",
       "      <td>19</td>\n",
       "      <td>14</td>\n",
       "      <td>0</td>\n",
       "      <td>12</td>\n",
       "    </tr>\n",
       "    <tr>\n",
       "      <th>0.3500</th>\n",
       "      <td>20</td>\n",
       "      <td>14</td>\n",
       "      <td>0</td>\n",
       "      <td>12</td>\n",
       "    </tr>\n",
       "    <tr>\n",
       "      <th>0.3625</th>\n",
       "      <td>20</td>\n",
       "      <td>14</td>\n",
       "      <td>0</td>\n",
       "      <td>12</td>\n",
       "    </tr>\n",
       "    <tr>\n",
       "      <th>0.3750</th>\n",
       "      <td>20</td>\n",
       "      <td>14</td>\n",
       "      <td>0</td>\n",
       "      <td>12</td>\n",
       "    </tr>\n",
       "    <tr>\n",
       "      <th>0.3875</th>\n",
       "      <td>20</td>\n",
       "      <td>14</td>\n",
       "      <td>0</td>\n",
       "      <td>12</td>\n",
       "    </tr>\n",
       "    <tr>\n",
       "      <th>0.4000</th>\n",
       "      <td>20</td>\n",
       "      <td>14</td>\n",
       "      <td>0</td>\n",
       "      <td>12</td>\n",
       "    </tr>\n",
       "    <tr>\n",
       "      <th>0.4125</th>\n",
       "      <td>20</td>\n",
       "      <td>14</td>\n",
       "      <td>0</td>\n",
       "      <td>12</td>\n",
       "    </tr>\n",
       "    <tr>\n",
       "      <th>0.4250</th>\n",
       "      <td>20</td>\n",
       "      <td>14</td>\n",
       "      <td>0</td>\n",
       "      <td>12</td>\n",
       "    </tr>\n",
       "    <tr>\n",
       "      <th>0.4375</th>\n",
       "      <td>20</td>\n",
       "      <td>14</td>\n",
       "      <td>0</td>\n",
       "      <td>12</td>\n",
       "    </tr>\n",
       "    <tr>\n",
       "      <th>0.4500</th>\n",
       "      <td>20</td>\n",
       "      <td>14</td>\n",
       "      <td>0</td>\n",
       "      <td>12</td>\n",
       "    </tr>\n",
       "    <tr>\n",
       "      <th>0.4625</th>\n",
       "      <td>20</td>\n",
       "      <td>14</td>\n",
       "      <td>0</td>\n",
       "      <td>12</td>\n",
       "    </tr>\n",
       "    <tr>\n",
       "      <th>0.4750</th>\n",
       "      <td>20</td>\n",
       "      <td>14</td>\n",
       "      <td>0</td>\n",
       "      <td>12</td>\n",
       "    </tr>\n",
       "    <tr>\n",
       "      <th>0.4875</th>\n",
       "      <td>20</td>\n",
       "      <td>14</td>\n",
       "      <td>0</td>\n",
       "      <td>12</td>\n",
       "    </tr>\n",
       "    <tr>\n",
       "      <th>0.5000</th>\n",
       "      <td>20</td>\n",
       "      <td>14</td>\n",
       "      <td>0</td>\n",
       "      <td>12</td>\n",
       "    </tr>\n",
       "  </tbody>\n",
       "</table>\n",
       "</div>"
      ],
      "text/plain": [
       "        L1 all columns w=0  L1 poly columns w=0  L2 all columns w=0  L2 w<1e-3\n",
       "alpha                                                                         \n",
       "0.0000                   0                    0                   0          9\n",
       "0.0125                  13                   13                   0         10\n",
       "0.0250                  15                   14                   0         10\n",
       "0.0375                  15                   14                   0         11\n",
       "0.0500                  15                   14                   0         12\n",
       "0.0625                  15                   14                   0         12\n",
       "0.0750                  16                   14                   0         12\n",
       "0.0875                  17                   14                   0         12\n",
       "0.1000                  17                   14                   0         12\n",
       "0.1125                  17                   14                   0         12\n",
       "0.1250                  17                   14                   0         12\n",
       "0.1375                  17                   14                   0         12\n",
       "0.1500                  17                   14                   0         12\n",
       "0.1625                  17                   14                   0         12\n",
       "0.1750                  18                   14                   0         12\n",
       "0.1875                  18                   14                   0         12\n",
       "0.2000                  19                   14                   0         12\n",
       "0.2125                  19                   14                   0         12\n",
       "0.2250                  19                   14                   0         12\n",
       "0.2375                  19                   14                   0         12\n",
       "0.2500                  19                   14                   0         12\n",
       "0.2625                  19                   14                   0         12\n",
       "0.2750                  19                   14                   0         12\n",
       "0.2875                  19                   14                   0         12\n",
       "0.3000                  19                   14                   0         12\n",
       "0.3125                  19                   14                   0         12\n",
       "0.3250                  19                   14                   0         12\n",
       "0.3375                  19                   14                   0         12\n",
       "0.3500                  20                   14                   0         12\n",
       "0.3625                  20                   14                   0         12\n",
       "0.3750                  20                   14                   0         12\n",
       "0.3875                  20                   14                   0         12\n",
       "0.4000                  20                   14                   0         12\n",
       "0.4125                  20                   14                   0         12\n",
       "0.4250                  20                   14                   0         12\n",
       "0.4375                  20                   14                   0         12\n",
       "0.4500                  20                   14                   0         12\n",
       "0.4625                  20                   14                   0         12\n",
       "0.4750                  20                   14                   0         12\n",
       "0.4875                  20                   14                   0         12\n",
       "0.5000                  20                   14                   0         12"
      ]
     },
     "execution_count": 37,
     "metadata": {},
     "output_type": "execute_result"
    }
   ],
   "source": [
    "zero_weights = pd.DataFrame()\n",
    "zero_weights['L1 all columns w=0'] = (weights == 0).sum(axis=0)\n",
    "zero_weights['L1 poly columns w=0'] = (weights.loc[10:, :]  == 0).sum(axis=0)\n",
    "zero_weights['L2 all columns w=0'] = (weights_L2 == 0).sum(axis=0)\n",
    "zero_weights['L2 w<1e-3'] = (weights_L2 < 1e-3).sum(axis=0)\n",
    "zero_weights"
   ]
  },
  {
   "cell_type": "markdown",
   "metadata": {},
   "source": [
    "#### Summary"
   ]
  },
  {
   "cell_type": "markdown",
   "metadata": {},
   "source": [
    "- При коэффициенте корреляции равным нулю, то есть для обычной линейной регрессии, нет значений весов = 0  \n",
    "- Регуляризация L1 зануляет определенные признаки\n",
    "- При регуляризации L2 значения весов могут быть очень маленькими, но не равныму нулю"
   ]
  },
  {
   "cell_type": "markdown",
   "metadata": {},
   "source": [
    "### Excercise 4 - Scaling (2 points)"
   ]
  },
  {
   "cell_type": "markdown",
   "metadata": {},
   "source": [
    "As a general rule, it is recommended to scale input features before fitting a regularized model so that the features/inputs take values in similar ranges. One common way of doing so is to standardize the inputs and that is exactly what our pipeline  second step (`StandardScaler`) is responsible for. \n",
    "\n",
    "Is scaling important? What are the underlying reasons?\n",
    "\n",
    "Please do a discovery on your own and find that out empirically (both for **L1** and **L2**) on the dataset below. Check coefficients."
   ]
  },
  {
   "cell_type": "code",
   "execution_count": 38,
   "metadata": {},
   "outputs": [
    {
     "name": "stdout",
     "output_type": "stream",
     "text": [
      "Min of feature 0: -0.05, max: 0.05\n",
      "Min of feature 1: -494.87, max: 493.57\n",
      "Min of feature 2: -2.35, max: 213.31\n"
     ]
    }
   ],
   "source": [
    "def target_function_hw(x):\n",
    "    return 2 * x\n",
    "\n",
    "def generate_samples_hw():\n",
    "    np.random.seed(SEED)\n",
    "    x = np.random.uniform(*RANGE, size=N_SAMPLES)\n",
    "    \n",
    "    np.random.seed(SEED+1)\n",
    "    x_noise = np.random.uniform(*[x * 100 for x in RANGE], size=N_SAMPLES)\n",
    "    x_noise2 = np.random.normal(100, 50, size=N_SAMPLES)\n",
    "    \n",
    "    y = target_function_hw(x) + np.random.normal(scale=4, size=N_SAMPLES)\n",
    "    \n",
    "    return np.concatenate([x.reshape(-1, 1) / 100, \n",
    "                           x_noise.reshape(-1, 1),\n",
    "                           x_noise2.reshape(-1, 1)], axis=1), y\n",
    "\n",
    "X_hw, y_hw = generate_samples_hw()\n",
    "\n",
    "for i in range(X_hw.shape[1]):\n",
    "    print(f'Min of feature {i}: {min(X_hw[:, i]):.2f}, max: {max(X_hw[:, i]):.2f}')"
   ]
  },
  {
   "cell_type": "code",
   "execution_count": 39,
   "metadata": {},
   "outputs": [],
   "source": [
    "X_train, X_valid, y_train, y_valid = train_test_split(X_hw, y_hw, test_size=0.3, random_state=SEED)\n",
    "\n",
    "scaler = StandardScaler()\n",
    "scaler.fit(X_train)\n",
    "X_train_scaled = scaler.transform(X_train) \n",
    "X_valid_scaled = scaler.transform(X_valid)"
   ]
  },
  {
   "cell_type": "markdown",
   "metadata": {},
   "source": [
    "#### L1"
   ]
  },
  {
   "cell_type": "markdown",
   "metadata": {},
   "source": [
    "Построим модель на исходных данных (без масштабирования)"
   ]
  },
  {
   "cell_type": "code",
   "execution_count": 40,
   "metadata": {},
   "outputs": [
    {
     "name": "stdout",
     "output_type": "stream",
     "text": [
      "model_intercept: 2.0859948684022287\n",
      "model_slope: [ 1.62742716e+02 -1.07195979e-03 -2.73321710e-02]\n",
      "average mean: 54.2381\n",
      "rmse train 4.093750294149494\n",
      "rmse test 4.094966875015921\n",
      "r2 train 0.38638045040630353\n",
      "r2 test 0.04853906370861405\n"
     ]
    }
   ],
   "source": [
    "model = Lasso(alpha=0.0125, random_state=SEED, max_iter=50000)\n",
    "model.fit(X_train, y_train)\n",
    "\n",
    "print(f'model_intercept: {model.intercept_}')\n",
    "print(f'model_slope: {model.coef_}')\n",
    "print(f'average mean: {round(model.coef_.mean(),4)}')\n",
    "print('rmse train', rmse(model.predict(X_train), y_train))\n",
    "print('rmse test', rmse(model.predict(X_valid), y_valid))\n",
    "print('r2 train', r2_score(model.predict(X_train), y_train))\n",
    "print('r2 test', r2_score(model.predict(X_valid), y_valid))"
   ]
  },
  {
   "cell_type": "markdown",
   "metadata": {},
   "source": [
    "С использованием масштабирования"
   ]
  },
  {
   "cell_type": "code",
   "execution_count": 41,
   "metadata": {},
   "outputs": [
    {
     "name": "stdout",
     "output_type": "stream",
     "text": [
      "model_intercept: -1.7246366165167875\n",
      "model_slope: [ 5.32416561 -0.29610609 -1.32846614]\n",
      "average mean: 1.2332\n",
      "rmse train 4.072738019380743\n",
      "rmse test 4.043630517124277\n",
      "r2 train 0.47138389558906924\n",
      "r2 test 0.19086900623493086\n"
     ]
    }
   ],
   "source": [
    "model = Lasso(alpha=0.0125, random_state=SEED, max_iter=50000)\n",
    "model.fit(X_train_scaled, y_train)\n",
    "\n",
    "print(f'model_intercept: {model.intercept_}')\n",
    "print(f'model_slope: {model.coef_}')\n",
    "print(f'average mean: {round(model.coef_.mean(),4)}')\n",
    "print('rmse train', rmse(model.predict(X_train_scaled), y_train))\n",
    "print('rmse test', rmse(model.predict(X_valid_scaled), y_valid))\n",
    "print('r2 train', r2_score(model.predict(X_train_scaled), y_train))\n",
    "print('r2 test', r2_score(model.predict(X_valid_scaled), y_valid))"
   ]
  },
  {
   "cell_type": "markdown",
   "metadata": {},
   "source": [
    "#### L2"
   ]
  },
  {
   "cell_type": "code",
   "execution_count": 42,
   "metadata": {},
   "outputs": [
    {
     "name": "stdout",
     "output_type": "stream",
     "text": [
      "model_intercept: 2.073798245967673\n",
      "model_slope: [ 1.26687735e+02 -1.15497165e-03 -2.89345901e-02]\n",
      "average mean: 42.2192\n",
      "rmse train 4.340597621360228\n",
      "rmse test 4.324527778673989\n",
      "r2 train -0.05642226945734463\n",
      "r2 test -0.610097997356545\n"
     ]
    }
   ],
   "source": [
    "model = Ridge(alpha=0.0125, random_state=SEED, max_iter=50000)\n",
    "model.fit(X_train, y_train)\n",
    "\n",
    "print(f'model_intercept: {model.intercept_}')\n",
    "print(f'model_slope: {model.coef_}')\n",
    "print(f'average mean: {round(model.coef_.mean(),4)}')\n",
    "print('rmse train', rmse(model.predict(X_train), y_train))\n",
    "print('rmse test', rmse(model.predict(X_valid), y_valid))\n",
    "print('r2 train', r2_score(model.predict(X_train), y_train))\n",
    "print('r2 test', r2_score(model.predict(X_valid), y_valid))"
   ]
  },
  {
   "cell_type": "code",
   "execution_count": 43,
   "metadata": {},
   "outputs": [
    {
     "name": "stdout",
     "output_type": "stream",
     "text": [
      "model_intercept: -1.7246366165167872\n",
      "model_slope: [ 5.33365657 -0.30769193 -1.33917977]\n",
      "average mean: 1.2289\n",
      "rmse train 4.072686228540694\n",
      "rmse test 4.054783610322131\n",
      "r2 train 0.47395347274363975\n",
      "r2 test 0.19062027674751592\n"
     ]
    }
   ],
   "source": [
    "model = Ridge(alpha=0.0125, random_state=SEED, max_iter=50000)\n",
    "model.fit(X_train_scaled, y_train)\n",
    "\n",
    "print(f'model_intercept: {model.intercept_}')\n",
    "print(f'model_slope: {model.coef_}')\n",
    "print(f'average mean: {round(model.coef_.mean(),4)}')\n",
    "print('rmse train', rmse(model.predict(X_train_scaled), y_train))\n",
    "print('rmse test', rmse(model.predict(X_valid_scaled), y_valid))\n",
    "print('r2 train', r2_score(model.predict(X_train_scaled), y_train))\n",
    "print('r2 test', r2_score(model.predict(X_valid_scaled), y_valid))"
   ]
  },
  {
   "cell_type": "markdown",
   "metadata": {},
   "source": [
    "#### Summary\n",
    "\n"
   ]
  },
  {
   "cell_type": "markdown",
   "metadata": {},
   "source": [
    "- Диапазон значений признаков может сильно отличаться, при обучении это может мешать производительности модели, поэтому следует масштабировать данные \n",
    "- Регуляризация работает лучше, когда значения весов имеют близкие порядки \n",
    "- При использовании скейлера метрики улучшились, значения весов находятся примерно в одном диапазоне. Без масштабирования веса отличаются сильнее."
   ]
  }
 ],
 "metadata": {
  "kernelspec": {
   "display_name": "Python 3 (ipykernel)",
   "language": "python",
   "name": "python3"
  },
  "language_info": {
   "codemirror_mode": {
    "name": "ipython",
    "version": 3
   },
   "file_extension": ".py",
   "mimetype": "text/x-python",
   "name": "python",
   "nbconvert_exporter": "python",
   "pygments_lexer": "ipython3",
   "version": "3.8.9"
  },
  "toc": {
   "base_numbering": 1,
   "nav_menu": {},
   "number_sections": true,
   "sideBar": true,
   "skip_h1_title": false,
   "title_cell": "Table of Contents",
   "title_sidebar": "Contents",
   "toc_cell": false,
   "toc_position": {
    "height": "calc(100% - 180px)",
    "left": "10px",
    "top": "150px",
    "width": "288.188px"
   },
   "toc_section_display": true,
   "toc_window_display": true
  },
  "varInspector": {
   "cols": {
    "lenName": 16,
    "lenType": 16,
    "lenVar": 40
   },
   "kernels_config": {
    "python": {
     "delete_cmd_postfix": "",
     "delete_cmd_prefix": "del ",
     "library": "var_list.py",
     "varRefreshCmd": "print(var_dic_list())"
    },
    "r": {
     "delete_cmd_postfix": ") ",
     "delete_cmd_prefix": "rm(",
     "library": "var_list.r",
     "varRefreshCmd": "cat(var_dic_list()) "
    }
   },
   "types_to_exclude": [
    "module",
    "function",
    "builtin_function_or_method",
    "instance",
    "_Feature"
   ],
   "window_display": false
  }
 },
 "nbformat": 4,
 "nbformat_minor": 4
}
